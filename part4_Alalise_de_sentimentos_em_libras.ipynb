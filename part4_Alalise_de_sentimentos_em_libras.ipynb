{
  "nbformat": 4,
  "nbformat_minor": 0,
  "metadata": {
    "colab": {
      "name": "part4 - Alalise de sentimentos em libras.ipynb",
      "provenance": [],
      "collapsed_sections": [
        "olF-BidTe6c9",
        "FyWeNu21mdcV",
        "lmexC3zAeiYH"
      ]
    },
    "kernelspec": {
      "name": "python3",
      "display_name": "Python 3"
    },
    "accelerator": "GPU"
  },
  "cells": [
    {
      "cell_type": "markdown",
      "metadata": {
        "id": "3kWj_CLYepz4"
      },
      "source": [
        "# Reproduzindo as frases no Hugo e treinando rede de analise de sentimentos"
      ]
    },
    {
      "cell_type": "markdown",
      "metadata": {
        "id": "olF-BidTe6c9"
      },
      "source": [
        "## 1 - importando videos do hugo\n",
        "\n"
      ]
    },
    {
      "cell_type": "code",
      "metadata": {
        "id": "TyDN6TcomW4G",
        "outputId": "96aa77d3-e267-45ee-8267-b2d4e14a6b19",
        "colab": {
          "base_uri": "https://localhost:8080/"
        }
      },
      "source": [
        "!git clone https://github.com/LucaswasTaken/Acessibilidade_Parte_4_Analise_de_Sentimentos_LIBRAS.git"
      ],
      "execution_count": null,
      "outputs": [
        {
          "output_type": "stream",
          "text": [
            "Cloning into 'Acessibilidade_Parte_4_Analise_de_Sentimentos_LIBRAS'...\n",
            "remote: Enumerating objects: 12, done.\u001b[K\n",
            "remote: Counting objects: 100% (12/12), done.\u001b[K\n",
            "remote: Compressing objects: 100% (12/12), done.\u001b[K\n",
            "remote: Total 12 (delta 3), reused 0 (delta 0), pack-reused 0\u001b[K\n",
            "Unpacking objects: 100% (12/12), done.\n"
          ],
          "name": "stdout"
        }
      ]
    },
    {
      "cell_type": "code",
      "metadata": {
        "id": "CVM65AT4myKg",
        "outputId": "175e7df9-df15-4ed3-b9a5-abc6136a7065",
        "colab": {
          "base_uri": "https://localhost:8080/"
        }
      },
      "source": [
        "!git clone https://github.com/LucaswasTaken/Acessibilidade_Parte_3_Angulo_dedos.git"
      ],
      "execution_count": null,
      "outputs": [
        {
          "output_type": "stream",
          "text": [
            "Cloning into 'Acessibilidade_Parte_3_Angulo_dedos'...\n",
            "remote: Enumerating objects: 62, done.\u001b[K\n",
            "remote: Counting objects: 100% (62/62), done.\u001b[K\n",
            "remote: Compressing objects: 100% (60/60), done.\u001b[K\n",
            "remote: Total 62 (delta 30), reused 0 (delta 0), pack-reused 0\u001b[K\n",
            "Unpacking objects: 100% (62/62), done.\n"
          ],
          "name": "stdout"
        }
      ]
    },
    {
      "cell_type": "markdown",
      "metadata": {
        "id": "FyWeNu21mdcV"
      },
      "source": [
        "## 2 - Carregando modelo para detecção de mãos em videos"
      ]
    },
    {
      "cell_type": "code",
      "metadata": {
        "id": "Vf_juA7UmdEt"
      },
      "source": [
        "import cv2\n",
        "import time\n",
        "import numpy as np\n",
        "from google.colab.patches import cv2_imshow\n",
        "\n",
        "def extract_handposes(video_name):\n",
        "  protoFile = \"/content/Acessibilidade_Parte_3_Angulo_dedos/pose_deploy.prototxt\"\n",
        "  weightsFile = \"/content/drive/My Drive/hugo/pose_iter_102000.caffemodel\"\n",
        "  nPoints = 22\n",
        "  POSE_PAIRS = [ [0,1],[1,2],[2,3],[3,4],[0,5],[5,6],[6,7],[7,8],[0,9],[9,10],[10,11],[11,12],[0,13],[13,14],[14,15],[15,16],[0,17],[17,18],[18,19],[19,20] ]\n",
        "\n",
        "  threshold = 0.2\n",
        "\n",
        "\n",
        "  input_source = video_name\n",
        "  cap = cv2.VideoCapture(input_source)\n",
        "  hasFrame, frame = cap.read()\n",
        "\n",
        "  frameWidth = frame.shape[1]\n",
        "  frameHeight = frame.shape[0]\n",
        "\n",
        "  aspect_ratio = frameWidth/frameHeight\n",
        "\n",
        "  inHeight = 368\n",
        "  inWidth = int(((aspect_ratio*inHeight)*8)//8)\n",
        "\n",
        "  net = cv2.dnn.readNetFromCaffe(protoFile, weightsFile)\n",
        "  k = 0\n",
        "  total_points = []\n",
        "  kt = []\n",
        "  while 1:\n",
        "      k+=1\n",
        "      if (k%20!=0):\n",
        "        continue\n",
        "      t = time.time()\n",
        "      hasFrame, frame = cap.read()\n",
        "      frameCopy = np.copy(frame)\n",
        "      roi_width = int(frameWidth / 2)\n",
        "      \n",
        "      if not hasFrame:\n",
        "          cv2.waitKey()\n",
        "          break\n",
        "      image1 = frameCopy[0:frameHeight, 0:int(roi_width)]\n",
        "      image2 = frameCopy[0:frameHeight, int(roi_width):int(2*roi_width)]\n",
        "\n",
        "      inpBlob1 = cv2.dnn.blobFromImage(image1, 1.0 / 255, (roi_width, inHeight),\n",
        "                                (0, 0, 0), swapRB=False, crop=False)\n",
        "      inpBlob2 = cv2.dnn.blobFromImage(image2, 1.0 / 255, (roi_width, inHeight),\n",
        "                                (0, 0, 0), swapRB=False, crop=False)\n",
        "      net.setInput(inpBlob1)\n",
        "      output = net.forward()\n",
        "      # Empty list to store the detected keypoints\n",
        "      points1 = []\n",
        "\n",
        "      for i in range(nPoints):\n",
        "          # confidence map of corresponding body's part.\n",
        "          probMap = output[0, i, :, :]\n",
        "          probMap = cv2.resize(probMap, (roi_width, frameHeight))\n",
        "\n",
        "          # Find global maxima of the probMap.\n",
        "          minVal, prob, minLoc, point = cv2.minMaxLoc(probMap)\n",
        "\n",
        "          if prob > threshold :\n",
        "              points1.append((int(point[0]), int(point[1])))\n",
        "          else :\n",
        "              points1.append((0,0))\n",
        "      for elem in points1:\n",
        "          if(sum(elem)!=0):\n",
        "            total_points.append(points1)\n",
        "            kt.append(k)\n",
        "            # print(k)\n",
        "            break\n",
        "\n",
        "      # Empty list to store the detected keypoints\n",
        "      points2 = []\n",
        "\n",
        "      for i in range(nPoints):\n",
        "          # confidence map of corresponding body's part.\n",
        "          probMap = output[0, i, :, :]\n",
        "          probMap = cv2.resize(probMap, (roi_width, frameHeight))\n",
        "\n",
        "          # Find global maxima of the probMap.\n",
        "          minVal, prob, minLoc, point = cv2.minMaxLoc(probMap)\n",
        "\n",
        "          if prob > threshold :\n",
        "              points2.append((int(point[0]), int(point[1])))\n",
        "          else :\n",
        "              points2.append((0,0))\n",
        "      for elem in points2:\n",
        "          if(sum(elem)!=0):\n",
        "            total_points.append(points2)\n",
        "            kt.append(k)\n",
        "            break\n",
        "      \n",
        "      key = cv2.waitKey(1)\n",
        "      if key == 27:\n",
        "          break\n",
        "\n",
        "      # print(\"total = {}\".format(time.time() - t))\n",
        "      # print(total_points)\n",
        "  return [kt, total_points]\n"
      ],
      "execution_count": null,
      "outputs": []
    },
    {
      "cell_type": "code",
      "metadata": {
        "id": "FdBprw4otDqO"
      },
      "source": [
        "import json\n",
        "\n",
        "# vec_tristeza = extract_handposes('/content/Acessibilidade_Parte_4_Analise_de_Sentimentos_LIBRAS/tristezaf.mp4')\n",
        "\n",
        "# to_json = json.dumps(vec_tristeza)\n",
        "\n",
        "# with open('/content/drive/My Drive/hugo/tristeza.json', 'w') as file:\n",
        "#     json.dump(to_json, file)"
      ],
      "execution_count": null,
      "outputs": []
    },
    {
      "cell_type": "code",
      "metadata": {
        "id": "GOF9R6Oyt6Tg"
      },
      "source": [
        "# vec_raiva = extract_handposes('/content/Acessibilidade_Parte_4_Analise_de_Sentimentos_LIBRAS/raivaf.mp4')\n",
        "\n",
        "# to_json= json.dumps(vec_raiva)\n",
        "\n",
        "# with open('/content/drive/My Drive/hugo/raiva.json', 'w') as file:\n",
        "#     json.dump(to_json, file)"
      ],
      "execution_count": null,
      "outputs": []
    },
    {
      "cell_type": "code",
      "metadata": {
        "id": "Vvg2NIgrt9F5"
      },
      "source": [
        "alegira_vec = extract_handposes('/content/Acessibilidade_Parte_4_Analise_de_Sentimentos_LIBRAS/alegriaf.mp4')\n",
        "\n",
        "to_json= json.dumps(alegira_vec)\n",
        "\n",
        "with open('/content/drive/My Drive/hugo/alegria.json', 'w') as file:\n",
        "    json.dump(to_json, file)"
      ],
      "execution_count": null,
      "outputs": []
    },
    {
      "cell_type": "markdown",
      "metadata": {
        "id": "cPliSW7sb8_t"
      },
      "source": [
        "# 3 - Classificador de Sentimentos"
      ]
    },
    {
      "cell_type": "markdown",
      "metadata": {
        "id": "vRVHx8I6mGYJ"
      },
      "source": [
        "Triiteza dataset"
      ]
    },
    {
      "cell_type": "code",
      "metadata": {
        "id": "vX7kH8wycEtr"
      },
      "source": [
        "import json\n",
        "import numpy as np\n",
        "\n",
        "rs = open(\"/content/drive/My Drive/hugo/tristeza.json\",\"r\").read()\n",
        "\n",
        "# json.loads(string)\n",
        "s = json.loads(rs)\n",
        "tristeza = json.loads(s)\n",
        "tristeza_index1 = tristeza[0][2:len(tristeza[0]):2]\n",
        "tristeza_index2 = tristeza[0][0:(len(tristeza[0])-2):2]\n",
        "tristeza_index = []\n",
        "for i in range(len(tristeza_index1)):\n",
        "  tristeza_index.append(tristeza_index1[i]-tristeza_index2[i])\n",
        "m = np.mean(tristeza_index)\n",
        "s = np.std(tristeza_index)\n",
        "index_t = []\n",
        "for i in range(len(tristeza_index)):\n",
        "  if(tristeza_index[i]>(m+2*s)):\n",
        "    index_t.append(i)\n",
        "tristeza_poses = tristeza[1][2:len(tristeza[0])]\n",
        "all_seqs = []\n",
        "all_sentments = []\n",
        "for i in range(len(index_t)-1):\n",
        "  all_seqs.append(tristeza_poses[int(2*index_t[i]):int(2*index_t[i+1])])\n",
        "  all_sentments.append('tristeza')"
      ],
      "execution_count": 51,
      "outputs": []
    },
    {
      "cell_type": "code",
      "metadata": {
        "id": "RIVYbWYDksI8"
      },
      "source": [
        "rs = open(\"/content/drive/My Drive/hugo/raiva.json\",\"r\").read()\n",
        "\n",
        "# json.loads(string)\n",
        "s = json.loads(rs)\n",
        "raiva = json.loads(s)\n",
        "raiva_index1 = raiva[0][2:len(raiva[0]):2]\n",
        "raiva_index2 = raiva[0][0:(len(raiva[0])-2):2]\n",
        "raiva_index = []\n",
        "for i in range(len(raiva_index1)):\n",
        "  raiva_index.append(raiva_index1[i]-raiva_index2[i])\n",
        "m = np.mean(raiva_index)\n",
        "s = np.std(raiva_index)\n",
        "index_t = []\n",
        "for i in range(len(raiva_index)):\n",
        "  if(raiva_index[i]>(m+2*s)):\n",
        "    index_t.append(i)\n",
        "raiva_poses = raiva[1][2:len(raiva[0])]\n",
        "for i in range(len(index_t)-1):\n",
        "  all_seqs.append(raiva_poses[int(2*index_t[i]):int(2*index_t[i+1])])\n",
        "  all_sentments.append('raiva')"
      ],
      "execution_count": 52,
      "outputs": []
    },
    {
      "cell_type": "code",
      "metadata": {
        "id": "TGlLGqBdoMGC"
      },
      "source": [
        "rs = open(\"/content/drive/My Drive/hugo/alegria.json\",\"r\").read()\n",
        "\n",
        "# json.loads(string)\n",
        "s = json.loads(rs)\n",
        "alegria = json.loads(s)\n",
        "alegria_index1 = alegria[0][2:len(alegria[0]):2]\n",
        "alegria_index2 = alegria[0][0:(len(alegria[0])-2):2]\n",
        "alegria_index = []\n",
        "for i in range(len(alegria_index1)):\n",
        "  alegria_index.append(alegria_index1[i]-alegria_index2[i])\n",
        "m = np.mean(alegria_index)\n",
        "s = np.std(alegria_index)\n",
        "index_t = []\n",
        "for i in range(len(alegria_index)):\n",
        "  if(alegria_index[i]>(m+2*s)):\n",
        "    index_t.append(i)\n",
        "alegria_poses = alegria[1][2:len(alegria[0])]\n",
        "for i in range(len(index_t)-1):\n",
        "  all_seqs.append(alegria_poses[int(2*index_t[i]):int(2*index_t[i+1])])\n",
        "  all_sentments.append('alegria')"
      ],
      "execution_count": 53,
      "outputs": []
    },
    {
      "cell_type": "code",
      "metadata": {
        "id": "VMLLqQFarg4U"
      },
      "source": [
        "all_sentments_numeric = []\n",
        "for i in range(len(all_sentments)):\n",
        "  if(all_sentments[i]=='tristeza'):\n",
        "    all_sentments_numeric.append(0)\n",
        "  elif(all_sentments[i]=='raiva'):\n",
        "    all_sentments_numeric.append(1)\n",
        "  else:\n",
        "    all_sentments_numeric.append(2)"
      ],
      "execution_count": 54,
      "outputs": []
    },
    {
      "cell_type": "code",
      "metadata": {
        "id": "dip8VSYgrK80",
        "outputId": "f393ca45-9bb1-41ca-adc2-759cefcdac32",
        "colab": {
          "base_uri": "https://localhost:8080/",
          "height": 34
        }
      },
      "source": [
        "np.array(all_seqs[3]).shape"
      ],
      "execution_count": 5,
      "outputs": [
        {
          "output_type": "execute_result",
          "data": {
            "text/plain": [
              "(96, 22, 2)"
            ]
          },
          "metadata": {
            "tags": []
          },
          "execution_count": 5
        }
      ]
    },
    {
      "cell_type": "code",
      "metadata": {
        "id": "ky6DZl5MoD8y"
      },
      "source": [
        "import numpy as np\n",
        "from tensorflow.keras.utils import to_categorical\n",
        "from tensorflow.keras.preprocessing.sequence import pad_sequences\n",
        "from tensorflow.keras.models import Sequential\n",
        "from tensorflow.keras.layers import Dense\n",
        "from tensorflow.keras.layers import LSTM\n",
        "from tensorflow.keras.layers import Dropout\n",
        "from tensorflow.keras.layers import Embedding\n",
        "\n",
        "class Preprocessing(): \n",
        "    def __init__(self,input_libras,sentimentos):\n",
        "        self.encoded_data = input_libras\n",
        "        self.classes = sentimentos\n",
        "        self.max_length = None\n",
        "        self.sequences = None\n",
        "        self.sequencesy = None\n",
        "        self.x = None\n",
        "        self.y = None\n",
        "    def generate_sequence(self):\n",
        "        seq_list = list()\n",
        "        seq_listy = list()\n",
        "        for i in range(len(self.encoded_data)):\n",
        "            item = np.reshape(self.encoded_data[i],(int(len(self.encoded_data[i])*22*2)))\n",
        "            l = len(item)\n",
        "            for id in range(1,l,int(l/10 +1)):\n",
        "                seq_list.append(item[:id+1])\n",
        "                seq_listy.append(self.classes[i])\n",
        "        self.max_length = max([len(seq) for seq in seq_list])\n",
        "        self.sequences = pad_sequences(seq_list, maxlen=self.max_length, padding='pre')\n",
        "        self.sequences = np.array(self.sequences)\n",
        "        print(self.sequences)\n",
        "        self.sequencesy  = seq_listy\n",
        "    def get_data(self):\n",
        "        self.x = self.sequences\n",
        "        self.y = self.sequencesy\n",
        "        self.y = to_categorical(self.y,num_classes=3)"
      ],
      "execution_count": 59,
      "outputs": []
    },
    {
      "cell_type": "code",
      "metadata": {
        "id": "DQGp6l1irWeM",
        "outputId": "42633da5-2819-4e40-bb6c-cb945c433aa7",
        "colab": {
          "base_uri": "https://localhost:8080/",
          "height": 134
        }
      },
      "source": [
        "pr = Preprocessing(all_seqs,all_sentments)\n",
        "pr.generate_sequence()\n",
        "pr.get_data()"
      ],
      "execution_count": 60,
      "outputs": [
        {
          "output_type": "stream",
          "text": [
            "[[  0   0   0 ...   0   0   0]\n",
            " [  0   0   0 ...   0   0   0]\n",
            " [  0   0   0 ...   0  91 385]\n",
            " ...\n",
            " [  0   0   0 ...   0   0   0]\n",
            " [  0   0   0 ...   0   0   0]\n",
            " [  0   0   0 ...   0   0   0]]\n"
          ],
          "name": "stdout"
        }
      ]
    },
    {
      "cell_type": "code",
      "metadata": {
        "id": "xsxasaktsEUW"
      },
      "source": [
        "from sklearn.model_selection import train_test_split\n",
        "import tensorflow as tf\n",
        "from tensorflow.keras.callbacks import ModelCheckpoint\n",
        "class Model():\n",
        "    def __init__(self):\n",
        "        self.model = None\n",
        "        self.history = None\n",
        "        self.x = None\n",
        "        self.y = None\n",
        "        self.input_train = None\n",
        "        self.input_test = None\n",
        "        self.output_train = None\n",
        "        self.output_test = None\n",
        "        self.max_len = pr.max_length\n",
        "        \n",
        "        \n",
        "    def create_model(self):\n",
        "        self.model = Sequential()\n",
        "        self.model.add(LSTM(512, input_shape=(self.max_len,1)))\n",
        "        self.model.add(Dropout(0.1))\n",
        "        self.model.add(Dense(128))\n",
        "        self.model.add(Dense(3,activation='softmax'))\n",
        "        self.model.compile(loss='categorical_crossentropy',optimizer='adam',metrics=['accuracy'])\n",
        "        print(self.model.summary())\n",
        "    def run(self,epochs,batch_size):\n",
        "        seed = 7\n",
        "        np.random.seed(seed)\n",
        "        mcp_save = ModelCheckpoint('class_prediction_model_best_weights.hdf5', save_best_only=True, monitor='val_loss', mode='min')\n",
        "        self.input_train, self.input_test, self.output_train, self.output_test = train_test_split(self.x, self.y, test_size=0.1, random_state=seed, stratify=self.y)\n",
        "        self.history = self.model.fit(self.input_train, self.output_train,validation_data=(self.input_test,self.output_test),callbacks=[mcp_save], epochs=epochs,batch_size=batch_size,validation_split=0.1)\n",
        "        \n",
        "    def save(self):\n",
        "        self.model.save(\"class_prediction_model.h5\")"
      ],
      "execution_count": 26,
      "outputs": []
    },
    {
      "cell_type": "code",
      "metadata": {
        "id": "VDU3jyJtsaU9",
        "outputId": "cec504f9-78b4-4f19-f4b5-1005ba797934",
        "colab": {
          "base_uri": "https://localhost:8080/",
          "height": 302
        }
      },
      "source": [
        "model_obj = Model()\n",
        "model_obj.x = pr.x\n",
        "model_obj.y = pr.y\n",
        "model_obj.create_model()"
      ],
      "execution_count": 27,
      "outputs": [
        {
          "output_type": "stream",
          "text": [
            "Model: \"sequential_4\"\n",
            "_________________________________________________________________\n",
            "Layer (type)                 Output Shape              Param #   \n",
            "=================================================================\n",
            "lstm_4 (LSTM)                (None, 512)               1052672   \n",
            "_________________________________________________________________\n",
            "dropout_4 (Dropout)          (None, 512)               0         \n",
            "_________________________________________________________________\n",
            "dense_8 (Dense)              (None, 128)               65664     \n",
            "_________________________________________________________________\n",
            "dense_9 (Dense)              (None, 3)                 387       \n",
            "=================================================================\n",
            "Total params: 1,118,723\n",
            "Trainable params: 1,118,723\n",
            "Non-trainable params: 0\n",
            "_________________________________________________________________\n",
            "None\n"
          ],
          "name": "stdout"
        }
      ]
    },
    {
      "cell_type": "code",
      "metadata": {
        "id": "kyJkct7Csdjc",
        "outputId": "ba260b0a-3eb4-4357-eaf7-6e74d5c0afb7",
        "colab": {
          "base_uri": "https://localhost:8080/",
          "height": 1000
        }
      },
      "source": [
        "model_obj.run(100,100)\n",
        "model_obj.save()"
      ],
      "execution_count": 28,
      "outputs": [
        {
          "output_type": "stream",
          "text": [
            "Epoch 1/100\n",
            "8/8 [==============================] - 10s 1s/step - loss: 1.2472 - accuracy: 0.3479 - val_loss: 1.1191 - val_accuracy: 0.3214\n",
            "Epoch 2/100\n",
            "8/8 [==============================] - 9s 1s/step - loss: 1.1478 - accuracy: 0.3386 - val_loss: 1.1001 - val_accuracy: 0.3810\n",
            "Epoch 3/100\n",
            "8/8 [==============================] - 9s 1s/step - loss: 1.1154 - accuracy: 0.3745 - val_loss: 1.0866 - val_accuracy: 0.4048\n",
            "Epoch 4/100\n",
            "8/8 [==============================] - 10s 1s/step - loss: 1.0801 - accuracy: 0.3931 - val_loss: 1.0673 - val_accuracy: 0.3929\n",
            "Epoch 5/100\n",
            "8/8 [==============================] - 9s 1s/step - loss: 1.0681 - accuracy: 0.4276 - val_loss: 1.0691 - val_accuracy: 0.4524\n",
            "Epoch 6/100\n",
            "8/8 [==============================] - 9s 1s/step - loss: 1.0793 - accuracy: 0.4290 - val_loss: 1.0941 - val_accuracy: 0.4405\n",
            "Epoch 7/100\n",
            "8/8 [==============================] - 9s 1s/step - loss: 1.0565 - accuracy: 0.4276 - val_loss: 1.0710 - val_accuracy: 0.4286\n",
            "Epoch 8/100\n",
            "8/8 [==============================] - 9s 1s/step - loss: 1.0774 - accuracy: 0.4396 - val_loss: 1.0620 - val_accuracy: 0.4524\n",
            "Epoch 9/100\n",
            "8/8 [==============================] - 9s 1s/step - loss: 1.0783 - accuracy: 0.4250 - val_loss: 1.0691 - val_accuracy: 0.4405\n",
            "Epoch 10/100\n",
            "8/8 [==============================] - 9s 1s/step - loss: 1.0597 - accuracy: 0.4382 - val_loss: 1.1378 - val_accuracy: 0.3333\n",
            "Epoch 11/100\n",
            "8/8 [==============================] - 9s 1s/step - loss: 1.0465 - accuracy: 0.4622 - val_loss: 1.0770 - val_accuracy: 0.4643\n",
            "Epoch 12/100\n",
            "8/8 [==============================] - 9s 1s/step - loss: 1.0464 - accuracy: 0.4382 - val_loss: 1.1650 - val_accuracy: 0.3095\n",
            "Epoch 13/100\n",
            "8/8 [==============================] - 9s 1s/step - loss: 1.0633 - accuracy: 0.4250 - val_loss: 1.0639 - val_accuracy: 0.4286\n",
            "Epoch 14/100\n",
            "8/8 [==============================] - 10s 1s/step - loss: 1.0310 - accuracy: 0.4555 - val_loss: 1.0915 - val_accuracy: 0.3810\n",
            "Epoch 15/100\n",
            "8/8 [==============================] - 10s 1s/step - loss: 1.0201 - accuracy: 0.4688 - val_loss: 1.1132 - val_accuracy: 0.3571\n",
            "Epoch 16/100\n",
            "8/8 [==============================] - 9s 1s/step - loss: 1.0215 - accuracy: 0.4675 - val_loss: 1.1417 - val_accuracy: 0.3690\n",
            "Epoch 17/100\n",
            "8/8 [==============================] - 9s 1s/step - loss: 1.0010 - accuracy: 0.4874 - val_loss: 1.0908 - val_accuracy: 0.4643\n",
            "Epoch 18/100\n",
            "8/8 [==============================] - 9s 1s/step - loss: 1.0060 - accuracy: 0.4847 - val_loss: 1.1527 - val_accuracy: 0.3571\n",
            "Epoch 19/100\n",
            "8/8 [==============================] - 10s 1s/step - loss: 1.0400 - accuracy: 0.4675 - val_loss: 1.2154 - val_accuracy: 0.3214\n",
            "Epoch 20/100\n",
            "8/8 [==============================] - 9s 1s/step - loss: 1.0551 - accuracy: 0.4648 - val_loss: 1.1543 - val_accuracy: 0.4286\n",
            "Epoch 21/100\n",
            "8/8 [==============================] - 10s 1s/step - loss: 1.1162 - accuracy: 0.4024 - val_loss: 1.3366 - val_accuracy: 0.3333\n",
            "Epoch 22/100\n",
            "8/8 [==============================] - 10s 1s/step - loss: 1.1525 - accuracy: 0.4050 - val_loss: 1.1200 - val_accuracy: 0.3571\n",
            "Epoch 23/100\n",
            "8/8 [==============================] - 10s 1s/step - loss: 1.1351 - accuracy: 0.3958 - val_loss: 1.1111 - val_accuracy: 0.3214\n",
            "Epoch 24/100\n",
            "8/8 [==============================] - 9s 1s/step - loss: 1.0942 - accuracy: 0.4143 - val_loss: 1.1222 - val_accuracy: 0.3571\n",
            "Epoch 25/100\n",
            "8/8 [==============================] - 9s 1s/step - loss: 1.1054 - accuracy: 0.4250 - val_loss: 1.2778 - val_accuracy: 0.3810\n",
            "Epoch 26/100\n",
            "8/8 [==============================] - 9s 1s/step - loss: 1.1677 - accuracy: 0.4077 - val_loss: 1.0911 - val_accuracy: 0.4048\n",
            "Epoch 27/100\n",
            "8/8 [==============================] - 10s 1s/step - loss: 1.0868 - accuracy: 0.3825 - val_loss: 1.0639 - val_accuracy: 0.4881\n",
            "Epoch 28/100\n",
            "8/8 [==============================] - 10s 1s/step - loss: 1.0686 - accuracy: 0.4343 - val_loss: 1.0777 - val_accuracy: 0.3810\n",
            "Epoch 29/100\n",
            "8/8 [==============================] - 10s 1s/step - loss: 1.0544 - accuracy: 0.4475 - val_loss: 1.0990 - val_accuracy: 0.4048\n",
            "Epoch 30/100\n",
            "8/8 [==============================] - 10s 1s/step - loss: 1.0373 - accuracy: 0.4210 - val_loss: 1.1033 - val_accuracy: 0.3929\n",
            "Epoch 31/100\n",
            "8/8 [==============================] - 9s 1s/step - loss: 1.0321 - accuracy: 0.4303 - val_loss: 1.1046 - val_accuracy: 0.3571\n",
            "Epoch 32/100\n",
            "8/8 [==============================] - 10s 1s/step - loss: 1.0189 - accuracy: 0.4887 - val_loss: 1.0415 - val_accuracy: 0.4762\n",
            "Epoch 33/100\n",
            "8/8 [==============================] - 10s 1s/step - loss: 1.0386 - accuracy: 0.4542 - val_loss: 1.0512 - val_accuracy: 0.4762\n",
            "Epoch 34/100\n",
            "8/8 [==============================] - 10s 1s/step - loss: 1.0247 - accuracy: 0.4688 - val_loss: 1.1063 - val_accuracy: 0.3810\n",
            "Epoch 35/100\n",
            "8/8 [==============================] - 9s 1s/step - loss: 1.0171 - accuracy: 0.4741 - val_loss: 1.0572 - val_accuracy: 0.4762\n",
            "Epoch 36/100\n",
            "8/8 [==============================] - 10s 1s/step - loss: 1.0021 - accuracy: 0.4887 - val_loss: 1.0711 - val_accuracy: 0.4762\n",
            "Epoch 37/100\n",
            "8/8 [==============================] - 10s 1s/step - loss: 1.0044 - accuracy: 0.4714 - val_loss: 1.1370 - val_accuracy: 0.3571\n",
            "Epoch 38/100\n",
            "8/8 [==============================] - 10s 1s/step - loss: 1.0324 - accuracy: 0.4555 - val_loss: 1.0733 - val_accuracy: 0.4048\n",
            "Epoch 39/100\n",
            "8/8 [==============================] - 9s 1s/step - loss: 1.0362 - accuracy: 0.4462 - val_loss: 1.0769 - val_accuracy: 0.4167\n",
            "Epoch 40/100\n",
            "8/8 [==============================] - 10s 1s/step - loss: 1.0188 - accuracy: 0.4701 - val_loss: 1.1394 - val_accuracy: 0.3690\n",
            "Epoch 41/100\n",
            "8/8 [==============================] - 10s 1s/step - loss: 1.0151 - accuracy: 0.4675 - val_loss: 1.0582 - val_accuracy: 0.4167\n",
            "Epoch 42/100\n",
            "8/8 [==============================] - 10s 1s/step - loss: 1.0032 - accuracy: 0.4728 - val_loss: 1.0794 - val_accuracy: 0.4286\n",
            "Epoch 43/100\n",
            "8/8 [==============================] - 10s 1s/step - loss: 0.9870 - accuracy: 0.4954 - val_loss: 1.1208 - val_accuracy: 0.3810\n",
            "Epoch 44/100\n",
            "8/8 [==============================] - 10s 1s/step - loss: 0.9668 - accuracy: 0.4781 - val_loss: 1.0722 - val_accuracy: 0.4524\n",
            "Epoch 45/100\n",
            "8/8 [==============================] - 10s 1s/step - loss: 0.9577 - accuracy: 0.5020 - val_loss: 1.1365 - val_accuracy: 0.3810\n",
            "Epoch 46/100\n",
            "8/8 [==============================] - 10s 1s/step - loss: 0.9879 - accuracy: 0.4914 - val_loss: 1.0682 - val_accuracy: 0.4048\n",
            "Epoch 47/100\n",
            "8/8 [==============================] - 10s 1s/step - loss: 0.9880 - accuracy: 0.4914 - val_loss: 1.1034 - val_accuracy: 0.4048\n",
            "Epoch 48/100\n",
            "8/8 [==============================] - 10s 1s/step - loss: 0.9634 - accuracy: 0.5179 - val_loss: 1.1124 - val_accuracy: 0.3690\n",
            "Epoch 49/100\n",
            "8/8 [==============================] - 10s 1s/step - loss: 0.9587 - accuracy: 0.5073 - val_loss: 1.0681 - val_accuracy: 0.4524\n",
            "Epoch 50/100\n",
            "8/8 [==============================] - 10s 1s/step - loss: 0.9336 - accuracy: 0.5325 - val_loss: 1.1291 - val_accuracy: 0.3452\n",
            "Epoch 51/100\n",
            "8/8 [==============================] - 10s 1s/step - loss: 0.9505 - accuracy: 0.5086 - val_loss: 1.1864 - val_accuracy: 0.3333\n",
            "Epoch 52/100\n",
            "8/8 [==============================] - 10s 1s/step - loss: 0.9892 - accuracy: 0.4861 - val_loss: 1.0544 - val_accuracy: 0.4762\n",
            "Epoch 53/100\n",
            "8/8 [==============================] - 10s 1s/step - loss: 0.9451 - accuracy: 0.5139 - val_loss: 1.2391 - val_accuracy: 0.3214\n",
            "Epoch 54/100\n",
            "8/8 [==============================] - 9s 1s/step - loss: 0.9964 - accuracy: 0.4887 - val_loss: 1.0735 - val_accuracy: 0.4762\n",
            "Epoch 55/100\n",
            "8/8 [==============================] - 10s 1s/step - loss: 0.9495 - accuracy: 0.5352 - val_loss: 1.1160 - val_accuracy: 0.4167\n",
            "Epoch 56/100\n",
            "8/8 [==============================] - 10s 1s/step - loss: 0.9714 - accuracy: 0.4807 - val_loss: 1.1125 - val_accuracy: 0.4524\n",
            "Epoch 57/100\n",
            "8/8 [==============================] - 10s 1s/step - loss: 0.9254 - accuracy: 0.5206 - val_loss: 1.1188 - val_accuracy: 0.3571\n",
            "Epoch 58/100\n",
            "8/8 [==============================] - 10s 1s/step - loss: 0.9326 - accuracy: 0.5246 - val_loss: 1.0897 - val_accuracy: 0.4405\n",
            "Epoch 59/100\n",
            "8/8 [==============================] - 10s 1s/step - loss: 0.9376 - accuracy: 0.5286 - val_loss: 1.1198 - val_accuracy: 0.3810\n",
            "Epoch 60/100\n",
            "8/8 [==============================] - 10s 1s/step - loss: 0.9238 - accuracy: 0.5206 - val_loss: 1.1455 - val_accuracy: 0.4286\n",
            "Epoch 61/100\n",
            "8/8 [==============================] - 10s 1s/step - loss: 0.9148 - accuracy: 0.5538 - val_loss: 1.1030 - val_accuracy: 0.4167\n",
            "Epoch 62/100\n",
            "8/8 [==============================] - 10s 1s/step - loss: 0.9011 - accuracy: 0.5591 - val_loss: 1.1103 - val_accuracy: 0.4048\n",
            "Epoch 63/100\n",
            "8/8 [==============================] - 10s 1s/step - loss: 0.9075 - accuracy: 0.5458 - val_loss: 1.1386 - val_accuracy: 0.4405\n",
            "Epoch 64/100\n",
            "8/8 [==============================] - 10s 1s/step - loss: 0.9004 - accuracy: 0.5538 - val_loss: 1.1134 - val_accuracy: 0.4405\n",
            "Epoch 65/100\n",
            "8/8 [==============================] - 10s 1s/step - loss: 0.8733 - accuracy: 0.5764 - val_loss: 1.1350 - val_accuracy: 0.3810\n",
            "Epoch 66/100\n",
            "8/8 [==============================] - 10s 1s/step - loss: 0.8799 - accuracy: 0.5657 - val_loss: 1.1474 - val_accuracy: 0.4167\n",
            "Epoch 67/100\n",
            "8/8 [==============================] - 10s 1s/step - loss: 0.8880 - accuracy: 0.5471 - val_loss: 1.1575 - val_accuracy: 0.4405\n",
            "Epoch 68/100\n",
            "8/8 [==============================] - 10s 1s/step - loss: 0.8824 - accuracy: 0.5857 - val_loss: 1.1400 - val_accuracy: 0.4881\n",
            "Epoch 69/100\n",
            "8/8 [==============================] - 9s 1s/step - loss: 0.8577 - accuracy: 0.5710 - val_loss: 1.1688 - val_accuracy: 0.4881\n",
            "Epoch 70/100\n",
            "8/8 [==============================] - 10s 1s/step - loss: 0.8620 - accuracy: 0.5750 - val_loss: 1.1455 - val_accuracy: 0.4524\n",
            "Epoch 71/100\n",
            "8/8 [==============================] - 10s 1s/step - loss: 0.8412 - accuracy: 0.5923 - val_loss: 1.2341 - val_accuracy: 0.3333\n",
            "Epoch 72/100\n",
            "8/8 [==============================] - 10s 1s/step - loss: 0.8440 - accuracy: 0.5950 - val_loss: 1.1250 - val_accuracy: 0.4762\n",
            "Epoch 73/100\n",
            "8/8 [==============================] - 10s 1s/step - loss: 0.8602 - accuracy: 0.5737 - val_loss: 1.1599 - val_accuracy: 0.4167\n",
            "Epoch 74/100\n",
            "8/8 [==============================] - 10s 1s/step - loss: 0.8384 - accuracy: 0.5896 - val_loss: 1.1953 - val_accuracy: 0.4167\n",
            "Epoch 75/100\n",
            "8/8 [==============================] - 10s 1s/step - loss: 0.8065 - accuracy: 0.6202 - val_loss: 1.1709 - val_accuracy: 0.4524\n",
            "Epoch 76/100\n",
            "8/8 [==============================] - 10s 1s/step - loss: 0.7814 - accuracy: 0.6361 - val_loss: 1.1756 - val_accuracy: 0.4762\n",
            "Epoch 77/100\n",
            "8/8 [==============================] - 10s 1s/step - loss: 0.7803 - accuracy: 0.6308 - val_loss: 1.2123 - val_accuracy: 0.4524\n",
            "Epoch 78/100\n",
            "8/8 [==============================] - 10s 1s/step - loss: 0.7932 - accuracy: 0.6189 - val_loss: 1.1593 - val_accuracy: 0.4643\n",
            "Epoch 79/100\n",
            "8/8 [==============================] - 10s 1s/step - loss: 0.7772 - accuracy: 0.6228 - val_loss: 1.1384 - val_accuracy: 0.4762\n",
            "Epoch 80/100\n",
            "8/8 [==============================] - 10s 1s/step - loss: 0.7484 - accuracy: 0.6587 - val_loss: 1.2076 - val_accuracy: 0.4762\n",
            "Epoch 81/100\n",
            "8/8 [==============================] - 10s 1s/step - loss: 0.7623 - accuracy: 0.6375 - val_loss: 1.1867 - val_accuracy: 0.4167\n",
            "Epoch 82/100\n",
            "8/8 [==============================] - 10s 1s/step - loss: 0.7151 - accuracy: 0.6773 - val_loss: 1.1964 - val_accuracy: 0.4762\n",
            "Epoch 83/100\n",
            "8/8 [==============================] - 10s 1s/step - loss: 0.7414 - accuracy: 0.6547 - val_loss: 1.1449 - val_accuracy: 0.5357\n",
            "Epoch 84/100\n",
            "8/8 [==============================] - 9s 1s/step - loss: 0.7289 - accuracy: 0.6547 - val_loss: 1.2602 - val_accuracy: 0.4167\n",
            "Epoch 85/100\n",
            "8/8 [==============================] - 10s 1s/step - loss: 0.6899 - accuracy: 0.6653 - val_loss: 1.3085 - val_accuracy: 0.4167\n",
            "Epoch 86/100\n",
            "8/8 [==============================] - 10s 1s/step - loss: 0.6644 - accuracy: 0.6946 - val_loss: 1.2984 - val_accuracy: 0.4643\n",
            "Epoch 87/100\n",
            "8/8 [==============================] - 10s 1s/step - loss: 0.6918 - accuracy: 0.6853 - val_loss: 1.3242 - val_accuracy: 0.4167\n",
            "Epoch 88/100\n",
            "8/8 [==============================] - 10s 1s/step - loss: 0.6830 - accuracy: 0.7025 - val_loss: 1.2787 - val_accuracy: 0.4405\n",
            "Epoch 89/100\n",
            "8/8 [==============================] - 10s 1s/step - loss: 0.6586 - accuracy: 0.6972 - val_loss: 1.2803 - val_accuracy: 0.4524\n",
            "Epoch 90/100\n",
            "8/8 [==============================] - 10s 1s/step - loss: 0.6273 - accuracy: 0.7118 - val_loss: 1.3306 - val_accuracy: 0.4286\n",
            "Epoch 91/100\n",
            "8/8 [==============================] - 10s 1s/step - loss: 0.6401 - accuracy: 0.7198 - val_loss: 1.4030 - val_accuracy: 0.4286\n",
            "Epoch 92/100\n",
            "8/8 [==============================] - 10s 1s/step - loss: 0.6469 - accuracy: 0.7145 - val_loss: 1.4357 - val_accuracy: 0.4405\n",
            "Epoch 93/100\n",
            "8/8 [==============================] - 10s 1s/step - loss: 0.6623 - accuracy: 0.7025 - val_loss: 1.3695 - val_accuracy: 0.4167\n",
            "Epoch 94/100\n",
            "8/8 [==============================] - 10s 1s/step - loss: 0.6284 - accuracy: 0.7238 - val_loss: 1.3396 - val_accuracy: 0.4405\n",
            "Epoch 95/100\n",
            "8/8 [==============================] - 10s 1s/step - loss: 0.6288 - accuracy: 0.7118 - val_loss: 1.5088 - val_accuracy: 0.3929\n",
            "Epoch 96/100\n",
            "8/8 [==============================] - 10s 1s/step - loss: 0.6153 - accuracy: 0.7238 - val_loss: 1.4322 - val_accuracy: 0.4286\n",
            "Epoch 97/100\n",
            "8/8 [==============================] - 10s 1s/step - loss: 0.6104 - accuracy: 0.7224 - val_loss: 1.5220 - val_accuracy: 0.4167\n",
            "Epoch 98/100\n",
            "8/8 [==============================] - 10s 1s/step - loss: 0.5964 - accuracy: 0.7371 - val_loss: 1.4412 - val_accuracy: 0.4524\n",
            "Epoch 99/100\n",
            "8/8 [==============================] - 9s 1s/step - loss: 0.5959 - accuracy: 0.7304 - val_loss: 1.5283 - val_accuracy: 0.4286\n",
            "Epoch 100/100\n",
            "8/8 [==============================] - 10s 1s/step - loss: 0.5838 - accuracy: 0.7371 - val_loss: 1.4843 - val_accuracy: 0.4167\n"
          ],
          "name": "stdout"
        }
      ]
    },
    {
      "cell_type": "code",
      "metadata": {
        "id": "3OjLh5QzCa2Q"
      },
      "source": [
        "class Prediction():\n",
        "    def __init__(self,max_len):\n",
        "        self.model = None\n",
        "        self.max_length = max_len+1\n",
        "    \n",
        "    def load_model(self):\n",
        "        self.model = load_model(\"class_prediction_model.h5\")\n",
        "    def predict_words(self,encoded_data,num_words):\n",
        "        padded_data = pad_sequences([encoded_data],maxlen = self.max_length-1,padding='pre')\n",
        "        y_preds = self.model.predict(padded_data)\n",
        "        return y_preds"
      ],
      "execution_count": 44,
      "outputs": []
    },
    {
      "cell_type": "code",
      "metadata": {
        "id": "aNEHFuYbDYGv"
      },
      "source": [
        "from tensorflow.keras.models import load_model\n",
        "pred = Prediction(pr.max_length)    \n",
        "pred.load_model()"
      ],
      "execution_count": 45,
      "outputs": []
    },
    {
      "cell_type": "code",
      "metadata": {
        "id": "xA40Wpk0Dh_O",
        "outputId": "6dddd980-13b8-479f-a091-7adaf97c9063",
        "colab": {
          "base_uri": "https://localhost:8080/",
          "height": 315
        }
      },
      "source": [
        "y_pred_class = []\n",
        "y_real_clas = []\n",
        "for i in range(len(model_obj.output_test)):\n",
        "  y_pred = pred.predict_words(model_obj.input_test[i],1)\n",
        "  y_pred_class.append(np.argmax(y_pred))\n",
        "  y_real_clas.append(np.argmax(model_obj.output_test[i]))\n",
        "from sklearn.metrics import confusion_matrix\n",
        "from sklearn.metrics import f1_score, accuracy_score, precision_score\n",
        "from sklearn.metrics import accuracy_score\n",
        "import matplotlib.pyplot as plt\n",
        "import seaborn as sns\n",
        "%matplotlib inline\n",
        "\n",
        "cm = confusion_matrix(y_real_clas, y_pred_class)\n",
        "sns.heatmap(cm, annot=True, fmt='d', annot_kws={'fontsize':20}, cmap=\"YlGnBu\");\n",
        "print('F1 Score: ', f1_score(y_real_clas, y_pred_class, average='macro'))\n",
        "print('Accuracy: ', accuracy_score(y_real_clas, y_pred_class))\n",
        "print('Precision: ', precision_score(y_real_clas, y_pred_class, average='macro'))"
      ],
      "execution_count": 46,
      "outputs": [
        {
          "output_type": "stream",
          "text": [
            "F1 Score:  0.5054828212722949\n",
            "Accuracy:  0.5053763440860215\n",
            "Precision:  0.52298064254586\n"
          ],
          "name": "stdout"
        },
        {
          "output_type": "display_data",
          "data": {
            "image/png": "[encoded data removed]",
            "text/plain": [
              "<Figure size 432x288 with 2 Axes>"
            ]
          },
          "metadata": {
            "tags": [],
            "needs_background": "light"
          }
        }
      ]
    },
    {
      "cell_type": "markdown",
      "metadata": {
        "id": "lmexC3zAeiYH"
      },
      "source": [
        "# Extraindo n-gramas do texto e utilziando em dados de libras da literatura"
      ]
    },
    {
      "cell_type": "code",
      "metadata": {
        "id": "xB0brBRCvi_h",
        "outputId": "285c9b21-cdbe-40b5-961f-5e31f7b37b71",
        "colab": {
          "base_uri": "https://localhost:8080/"
        }
      },
      "source": [
        "!git clone https://github.com/LucaswasTaken/Acessibilidade_Parte_1_Analise_de_Sentimentos.git"
      ],
      "execution_count": null,
      "outputs": [
        {
          "output_type": "stream",
          "text": [
            "fatal: destination path 'Acessibilidade_Parte_1_Analise_de_Sentimentos' already exists and is not an empty directory.\n"
          ],
          "name": "stdout"
        }
      ]
    },
    {
      "cell_type": "code",
      "metadata": {
        "id": "RLrQTC2uzlBF",
        "outputId": "bcc517a0-b6b2-4b66-8c78-2d1f1f1c1eaf",
        "colab": {
          "base_uri": "https://localhost:8080/"
        }
      },
      "source": [
        "pip install unidecode"
      ],
      "execution_count": null,
      "outputs": [
        {
          "output_type": "stream",
          "text": [
            "Requirement already satisfied: unidecode in /usr/local/lib/python3.6/dist-packages (1.1.1)\n"
          ],
          "name": "stdout"
        }
      ]
    },
    {
      "cell_type": "code",
      "metadata": {
        "id": "dqf7WHzCxUXA"
      },
      "source": [
        "import re\n",
        "import string\n",
        "from unidecode import unidecode\n",
        "from tensorflow.keras.models import load_model\n",
        "from  tensorflow.keras.preprocessing.sequence import pad_sequences\n",
        "import pickle\n",
        "import numpy as np\n",
        "\n",
        "class Prediction():\n",
        "    def __init__(self,tokenizer,max_len):\n",
        "        self.model = None\n",
        "        self.tokenizer = tokenizer\n",
        "        self.idx2word = {v:k for k,v in self.tokenizer.word_index.items()}\n",
        "        self.max_length = max_len+1\n",
        "    \n",
        "    def load_model(self):\n",
        "        self.model = load_model(\"/content/Acessibilidade_Parte_1_Analise_de_Sentimentos/scr/class_prediction_model.h5\")\n",
        "        \n",
        "    def predict_words(self,encoded_data):\n",
        "        encoded_data = pad_sequences(encoded_data,maxlen = 11 ,padding='pre')\n",
        "        y_preds = self.model.predict(encoded_data)\n",
        "        return y_preds\n",
        "\n",
        "def analise_sentimento(text):\n",
        "  text = unidecode(text.lower())\n",
        "  text= re.sub(r'\\[[0-9]*\\]', ' ', text)\n",
        "  text = re.sub(r'\\s+', ' ', text)\n",
        "  text = re.sub('[^a-zA-Z]', ' ', text )\n",
        "  text = re.sub(r'\\s+', ' ', text)  \n",
        "  text = re.sub('[%s]' % re.escape(string.punctuation), ' ', text)\n",
        "  clean_text = [text]\n",
        "\n",
        "  with open('/content/Acessibilidade_Parte_1_Analise_de_Sentimentos/scr/tokenizer.pickle', 'rb') as handle:\n",
        "    tokenizer = pickle.load(handle)\n",
        "\n",
        "  encoded_data = tokenizer.texts_to_sequences(clean_text)\n",
        "\n",
        "  max_length = 11\n",
        "\n",
        "  pred = Prediction(tokenizer, max_length)    \n",
        "  pred.load_model()\n",
        "\n",
        "  y_pred = pred.predict_words(encoded_data)\n",
        "  if(np.argmax(y_pred)==0):\n",
        "    y_pred_class='raiva'\n",
        "  elif(np.argmax(y_pred)==1):\n",
        "    y_pred_class='tristeza'\n",
        "  else:\n",
        "    y_pred_class='alegria'\n",
        "  return y_pred_class"
      ],
      "execution_count": null,
      "outputs": []
    },
    {
      "cell_type": "code",
      "metadata": {
        "id": "SIxvEcLwzNQH"
      },
      "source": [
        "import pandas as pd\n",
        "data = pd.read_csv('/content/Acessibilidade_Parte_1_Analise_de_Sentimentos/dataset_sentimentos_augmented.csv')"
      ],
      "execution_count": null,
      "outputs": []
    },
    {
      "cell_type": "code",
      "metadata": {
        "id": "dno4EPUxAG6w"
      },
      "source": [
        "data = data.sample(frac=1).reset_index(drop=True)"
      ],
      "execution_count": null,
      "outputs": []
    },
    {
      "cell_type": "code",
      "metadata": {
        "id": "GBelRZ3ZLprM",
        "outputId": "a69cf86e-22fc-44de-f150-93ab889017b4",
        "colab": {
          "base_uri": "https://localhost:8080/"
        }
      },
      "source": [
        "data"
      ],
      "execution_count": null,
      "outputs": [
        {
          "output_type": "execute_result",
          "data": {
            "text/html": [
              "<div>\n",
              "<style scoped>\n",
              "    .dataframe tbody tr th:only-of-type {\n",
              "        vertical-align: middle;\n",
              "    }\n",
              "\n",
              "    .dataframe tbody tr th {\n",
              "        vertical-align: top;\n",
              "    }\n",
              "\n",
              "    .dataframe thead th {\n",
              "        text-align: right;\n",
              "    }\n",
              "</style>\n",
              "<table border=\"1\" class=\"dataframe\">\n",
              "  <thead>\n",
              "    <tr style=\"text-align: right;\">\n",
              "      <th></th>\n",
              "      <th>Unnamed: 0</th>\n",
              "      <th>Frase</th>\n",
              "      <th>Sentimento</th>\n",
              "    </tr>\n",
              "  </thead>\n",
              "  <tbody>\n",
              "    <tr>\n",
              "      <th>0</th>\n",
              "      <td>56</td>\n",
              "      <td>detesto trabalhar no verão</td>\n",
              "      <td>raiva</td>\n",
              "    </tr>\n",
              "    <tr>\n",
              "      <th>1</th>\n",
              "      <td>119</td>\n",
              "      <td>acho que isso e defeituoso</td>\n",
              "      <td>tristeza</td>\n",
              "    </tr>\n",
              "    <tr>\n",
              "      <th>2</th>\n",
              "      <td>30</td>\n",
              "      <td>estimo muito o seu trabalho</td>\n",
              "      <td>alegria</td>\n",
              "    </tr>\n",
              "    <tr>\n",
              "      <th>3</th>\n",
              "      <td>154</td>\n",
              "      <td>estávamos em um grande espetáculo</td>\n",
              "      <td>alegria</td>\n",
              "    </tr>\n",
              "    <tr>\n",
              "      <th>4</th>\n",
              "      <td>98</td>\n",
              "      <td>me sinto deslocado em sala de aula</td>\n",
              "      <td>tristeza</td>\n",
              "    </tr>\n",
              "    <tr>\n",
              "      <th>...</th>\n",
              "      <td>...</td>\n",
              "      <td>...</td>\n",
              "      <td>...</td>\n",
              "    </tr>\n",
              "    <tr>\n",
              "      <th>220</th>\n",
              "      <td>127</td>\n",
              "      <td>ele a colocou delicadamente para dormir</td>\n",
              "      <td>alegria</td>\n",
              "    </tr>\n",
              "    <tr>\n",
              "      <th>221</th>\n",
              "      <td>67</td>\n",
              "      <td>suba já para o seu quarto!</td>\n",
              "      <td>raiva</td>\n",
              "    </tr>\n",
              "    <tr>\n",
              "      <th>222</th>\n",
              "      <td>18</td>\n",
              "      <td>estou aproveitando as ferias</td>\n",
              "      <td>alegria</td>\n",
              "    </tr>\n",
              "    <tr>\n",
              "      <th>223</th>\n",
              "      <td>75</td>\n",
              "      <td>como pode ser tão burro?</td>\n",
              "      <td>raiva</td>\n",
              "    </tr>\n",
              "    <tr>\n",
              "      <th>224</th>\n",
              "      <td>131</td>\n",
              "      <td>Eu confio em você</td>\n",
              "      <td>alegria</td>\n",
              "    </tr>\n",
              "  </tbody>\n",
              "</table>\n",
              "<p>225 rows × 3 columns</p>\n",
              "</div>"
            ],
            "text/plain": [
              "     Unnamed: 0                                    Frase Sentimento\n",
              "0            56               detesto trabalhar no verão      raiva\n",
              "1           119               acho que isso e defeituoso   tristeza\n",
              "2            30              estimo muito o seu trabalho    alegria\n",
              "3           154        estávamos em um grande espetáculo    alegria\n",
              "4            98       me sinto deslocado em sala de aula   tristeza\n",
              "..          ...                                      ...        ...\n",
              "220         127  ele a colocou delicadamente para dormir    alegria\n",
              "221          67               suba já para o seu quarto!      raiva\n",
              "222          18             estou aproveitando as ferias    alegria\n",
              "223          75                 como pode ser tão burro?      raiva\n",
              "224         131                        Eu confio em você    alegria\n",
              "\n",
              "[225 rows x 3 columns]"
            ]
          },
          "metadata": {
            "tags": []
          },
          "execution_count": 21
        }
      ]
    },
    {
      "cell_type": "code",
      "metadata": {
        "id": "0Uz8iPLEMSIB",
        "outputId": "8ad1ebc4-9800-4f9b-e818-cea3eb76d504",
        "colab": {
          "base_uri": "https://localhost:8080/"
        }
      },
      "source": [
        "import nltk\n",
        "nltk.download('punkt')\n",
        "nltk.download('stopwords')\n",
        "from nltk.corpus import stopwords \n",
        "from nltk.tokenize import word_tokenize \n",
        "\n",
        "stop_words = set(stopwords.words('portuguese')) "
      ],
      "execution_count": null,
      "outputs": [
        {
          "output_type": "stream",
          "text": [
            "[nltk_data] Downloading package punkt to /root/nltk_data...\n",
            "[nltk_data]   Unzipping tokenizers/punkt.zip.\n",
            "[nltk_data] Downloading package stopwords to /root/nltk_data...\n",
            "[nltk_data]   Package stopwords is already up-to-date!\n"
          ],
          "name": "stdout"
        }
      ]
    },
    {
      "cell_type": "code",
      "metadata": {
        "id": "N7dQpE6uzrRc"
      },
      "source": [
        "from nltk import everygrams\n",
        "combinador = ' '\n",
        "grams = []\n",
        "for i in range(100):\n",
        "  print(i)\n",
        "  word_tokens = word_tokenize(data['Frase'].iloc[i]) \n",
        "  filtered_sentence = [w for w in word_tokens if not w in stop_words]\n",
        "  grams_aux = list(everygrams(filtered_sentence, 1, 3))\n",
        "  grams_candidate = []\n",
        "  for gram in grams_aux:\n",
        "    if(analise_sentimento(combinador.join(gram))==data['Sentimento'].iloc[i]):\n",
        "      grams_candidate.append(gram)\n",
        "  print(grams_candidate)\n",
        "  grams.append(grams_candidate)"
      ],
      "execution_count": null,
      "outputs": []
    },
    {
      "cell_type": "code",
      "metadata": {
        "id": "SaD0fkyQA9w1",
        "outputId": "1be1b077-4d0c-4bae-92f7-4cdd8f690b71",
        "colab": {
          "base_uri": "https://localhost:8080/"
        }
      },
      "source": [
        "data2 = data.iloc[0:100]\n",
        "data2['n-gramas'] = grams"
      ],
      "execution_count": null,
      "outputs": [
        {
          "output_type": "stream",
          "text": [
            "/usr/local/lib/python3.6/dist-packages/ipykernel_launcher.py:2: SettingWithCopyWarning: \n",
            "A value is trying to be set on a copy of a slice from a DataFrame.\n",
            "Try using .loc[row_indexer,col_indexer] = value instead\n",
            "\n",
            "See the caveats in the documentation: https://pandas.pydata.org/pandas-docs/stable/user_guide/indexing.html#returning-a-view-versus-a-copy\n",
            "  \n"
          ],
          "name": "stderr"
        }
      ]
    },
    {
      "cell_type": "code",
      "metadata": {
        "id": "M_H1zb2iTOE8"
      },
      "source": [
        "data2 = data2.sort_values(by=['Sentimento']).reset_index(drop=True)"
      ],
      "execution_count": null,
      "outputs": []
    },
    {
      "cell_type": "code",
      "metadata": {
        "id": "K7fn_RA9QcBj"
      },
      "source": [
        "data2.to_csv('datased_with_ngrams.csv',index=False)"
      ],
      "execution_count": null,
      "outputs": []
    },
    {
      "cell_type": "code",
      "metadata": {
        "id": "ZXAPJI2sTT17",
        "outputId": "d63a326d-13ac-4309-c792-a466c93b7762",
        "colab": {
          "base_uri": "https://localhost:8080/"
        }
      },
      "source": [
        "data2"
      ],
      "execution_count": null,
      "outputs": [
        {
          "output_type": "execute_result",
          "data": {
            "text/html": [
              "<div>\n",
              "<style scoped>\n",
              "    .dataframe tbody tr th:only-of-type {\n",
              "        vertical-align: middle;\n",
              "    }\n",
              "\n",
              "    .dataframe tbody tr th {\n",
              "        vertical-align: top;\n",
              "    }\n",
              "\n",
              "    .dataframe thead th {\n",
              "        text-align: right;\n",
              "    }\n",
              "</style>\n",
              "<table border=\"1\" class=\"dataframe\">\n",
              "  <thead>\n",
              "    <tr style=\"text-align: right;\">\n",
              "      <th></th>\n",
              "      <th>Unnamed: 0</th>\n",
              "      <th>Frase</th>\n",
              "      <th>Sentimento</th>\n",
              "      <th>n-gramas</th>\n",
              "    </tr>\n",
              "  </thead>\n",
              "  <tbody>\n",
              "    <tr>\n",
              "      <th>0</th>\n",
              "      <td>140</td>\n",
              "      <td>Estou despreocupado</td>\n",
              "      <td>alegria</td>\n",
              "      <td>[(Estou,), (despreocupado,), (Estou, despreocu...</td>\n",
              "    </tr>\n",
              "    <tr>\n",
              "      <th>1</th>\n",
              "      <td>13</td>\n",
              "      <td>conclui minha graduação</td>\n",
              "      <td>alegria</td>\n",
              "      <td>[(conclui,), (graduação,), (conclui, graduação)]</td>\n",
              "    </tr>\n",
              "    <tr>\n",
              "      <th>2</th>\n",
              "      <td>134</td>\n",
              "      <td>vamos aproveitar as férias</td>\n",
              "      <td>alegria</td>\n",
              "      <td>[(vamos,), (aproveitar,), (férias,), (vamos, a...</td>\n",
              "    </tr>\n",
              "    <tr>\n",
              "      <th>3</th>\n",
              "      <td>41</td>\n",
              "      <td>poderemos completar o projeto hoje!</td>\n",
              "      <td>alegria</td>\n",
              "      <td>[(poderemos,), (completar,), (projeto,), (hoje...</td>\n",
              "    </tr>\n",
              "    <tr>\n",
              "      <th>4</th>\n",
              "      <td>28</td>\n",
              "      <td>não me preocupo com o que aconteceu</td>\n",
              "      <td>alegria</td>\n",
              "      <td>[(preocupo,), (aconteceu,), (preocupo, acontec...</td>\n",
              "    </tr>\n",
              "    <tr>\n",
              "      <th>...</th>\n",
              "      <td>...</td>\n",
              "      <td>...</td>\n",
              "      <td>...</td>\n",
              "      <td>...</td>\n",
              "    </tr>\n",
              "    <tr>\n",
              "      <th>95</th>\n",
              "      <td>121</td>\n",
              "      <td>a depressão vai me derrubar</td>\n",
              "      <td>tristeza</td>\n",
              "      <td>[(depressão,), (derrubar,), (depressão, vai), ...</td>\n",
              "    </tr>\n",
              "    <tr>\n",
              "      <th>96</th>\n",
              "      <td>101</td>\n",
              "      <td>desanimo, raiva, solidão ou vazies, depressão</td>\n",
              "      <td>tristeza</td>\n",
              "      <td>[(desanimo,), (raiva,), (solidão,), (vazies,),...</td>\n",
              "    </tr>\n",
              "    <tr>\n",
              "      <th>97</th>\n",
              "      <td>197</td>\n",
              "      <td>esta tragédia nos abalará para sempre</td>\n",
              "      <td>tristeza</td>\n",
              "      <td>[(tragédia,), (abalará,), (tragédia, abalará),...</td>\n",
              "    </tr>\n",
              "    <tr>\n",
              "      <th>98</th>\n",
              "      <td>210</td>\n",
              "      <td>Eu continuo desencorajando você</td>\n",
              "      <td>tristeza</td>\n",
              "      <td>[(continuo,), (desencorajando,), (continuo, de...</td>\n",
              "    </tr>\n",
              "    <tr>\n",
              "      <th>99</th>\n",
              "      <td>88</td>\n",
              "      <td>isso tudo e um erro</td>\n",
              "      <td>tristeza</td>\n",
              "      <td>[(tudo,), (erro,), (tudo, erro)]</td>\n",
              "    </tr>\n",
              "  </tbody>\n",
              "</table>\n",
              "<p>100 rows × 4 columns</p>\n",
              "</div>"
            ],
            "text/plain": [
              "    Unnamed: 0  ...                                           n-gramas\n",
              "0          140  ...  [(Estou,), (despreocupado,), (Estou, despreocu...\n",
              "1           13  ...   [(conclui,), (graduação,), (conclui, graduação)]\n",
              "2          134  ...  [(vamos,), (aproveitar,), (férias,), (vamos, a...\n",
              "3           41  ...  [(poderemos,), (completar,), (projeto,), (hoje...\n",
              "4           28  ...  [(preocupo,), (aconteceu,), (preocupo, acontec...\n",
              "..         ...  ...                                                ...\n",
              "95         121  ...  [(depressão,), (derrubar,), (depressão, vai), ...\n",
              "96         101  ...  [(desanimo,), (raiva,), (solidão,), (vazies,),...\n",
              "97         197  ...  [(tragédia,), (abalará,), (tragédia, abalará),...\n",
              "98         210  ...  [(continuo,), (desencorajando,), (continuo, de...\n",
              "99          88  ...                   [(tudo,), (erro,), (tudo, erro)]\n",
              "\n",
              "[100 rows x 4 columns]"
            ]
          },
          "metadata": {
            "tags": []
          },
          "execution_count": 43
        }
      ]
    },
    {
      "cell_type": "code",
      "metadata": {
        "id": "P1dIW0LSA_UA",
        "outputId": "f5199f9d-c48b-4e93-f707-2649a9ed3adf",
        "colab": {
          "base_uri": "https://localhost:8080/"
        }
      },
      "source": [
        "!wget https://zenodo.org/record/3229958/files/01Primeira.rar?download=1\n"
      ],
      "execution_count": null,
      "outputs": [
        {
          "output_type": "stream",
          "text": [
            "--2020-10-14 13:22:23--  https://zenodo.org/record/3229958/files/01Primeira.rar?download=1\n",
            "Resolving zenodo.org (zenodo.org)... 137.138.76.77\n",
            "Connecting to zenodo.org (zenodo.org)|137.138.76.77|:443... connected.\n",
            "HTTP request sent, awaiting response... 200 OK\n",
            "Length: 1618947734 (1.5G) [application/octet-stream]\n",
            "Saving to: ‘01Primeira.rar?download=1’\n",
            "\n",
            "01Primeira.rar?down 100%[===================>]   1.51G  3.57MB/s    in 7m 1s   \n",
            "\n",
            "2020-10-14 13:29:26 (3.66 MB/s) - ‘01Primeira.rar?download=1’ saved [1618947734/1618947734]\n",
            "\n"
          ],
          "name": "stdout"
        }
      ]
    },
    {
      "cell_type": "code",
      "metadata": {
        "id": "CGeVtiy_QrjE",
        "outputId": "2fc97c8c-7a10-4959-93d3-d1b34192b7b0",
        "colab": {
          "base_uri": "https://localhost:8080/"
        }
      },
      "source": [
        "!wget https://zenodo.org/record/2667329/files/Sinalizador01.zip?download=1"
      ],
      "execution_count": null,
      "outputs": [
        {
          "output_type": "stream",
          "text": [
            "--2020-10-14 13:32:15--  https://zenodo.org/record/2667329/files/Sinalizador01.zip?download=1\n",
            "Resolving zenodo.org (zenodo.org)... 137.138.76.77\n",
            "Connecting to zenodo.org (zenodo.org)|137.138.76.77|:443... connected.\n",
            "HTTP request sent, awaiting response... 200 OK\n",
            "Length: 4430252522 (4.1G) [application/octet-stream]\n",
            "Saving to: ‘Sinalizador01.zip?download=1’\n",
            "\n",
            "Sinalizador01.zip?d 100%[===================>]   4.13G  6.97MB/s    in 12m 33s \n",
            "\n",
            "2020-10-14 13:44:51 (5.61 MB/s) - ‘Sinalizador01.zip?download=1’ saved [4430252522/4430252522]\n",
            "\n"
          ],
          "name": "stdout"
        }
      ]
    },
    {
      "cell_type": "code",
      "metadata": {
        "id": "ezgTEQw1RyUe",
        "outputId": "74ecae91-1c91-45f1-895b-784d32699e9d",
        "colab": {
          "base_uri": "https://localhost:8080/"
        }
      },
      "source": [
        "!wget http://arquivos.ouropreto.ifmg.edu.br/~vca/Base%20de%20dados%20-%20Sinais%20em%20Libras/01Primeira/"
      ],
      "execution_count": null,
      "outputs": [
        {
          "output_type": "stream",
          "text": [
            "--2020-10-14 13:56:15--  http://arquivos.ouropreto.ifmg.edu.br/~vca/Base%20de%20dados%20-%20Sinais%20em%20Libras/01Primeira/\n",
            "Resolving arquivos.ouropreto.ifmg.edu.br (arquivos.ouropreto.ifmg.edu.br)... 200.131.68.69\n",
            "Connecting to arquivos.ouropreto.ifmg.edu.br (arquivos.ouropreto.ifmg.edu.br)|200.131.68.69|:80... connected.\n",
            "HTTP request sent, awaiting response... 200 OK\n",
            "Length: 7964 (7.8K) [text/html]\n",
            "Saving to: ‘index.html’\n",
            "\n",
            "index.html          100%[===================>]   7.78K  --.-KB/s    in 0s      \n",
            "\n",
            "2020-10-14 13:56:16 (293 MB/s) - ‘index.html’ saved [7964/7964]\n",
            "\n"
          ],
          "name": "stdout"
        }
      ]
    },
    {
      "cell_type": "code",
      "metadata": {
        "id": "4KXys1kKX7Lk",
        "outputId": "42a98837-08e1-4f59-ccc8-001b1ec19a75",
        "colab": {
          "base_uri": "https://localhost:8080/"
        }
      },
      "source": [
        " !wget http://arquivos.ouropreto.ifmg.edu.br/~vca/Base%20de%20dados%20-%20Sinais%20em%20Libras/01Primeira/01Pessoa01.rar\n",
        " !wget http://arquivos.ouropreto.ifmg.edu.br/~vca/Base%20de%20dados%20-%20Sinais%20em%20Libras/01Primeira/02Espalhar01.rar\n",
        " !wget http://arquivos.ouropreto.ifmg.edu.br/~vca/Base%20de%20dados%20-%20Sinais%20em%20Libras/01Primeira/03Copiar01.rar\n",
        " !wget http://arquivos.ouropreto.ifmg.edu.br/~vca/Base%20de%20dados%20-%20Sinais%20em%20Libras/01Primeira/04Agarrar01.rar\n",
        " !wget http://arquivos.ouropreto.ifmg.edu.br/~vca/Base%20de%20dados%20-%20Sinais%20em%20Libras/01Primeira/05Recolher01.rar\n",
        " !wget http://arquivos.ouropreto.ifmg.edu.br/~vca/Base%20de%20dados%20-%20Sinais%20em%20Libras/01Primeira/06Sumir01.rar\n",
        " !wget http://arquivos.ouropreto.ifmg.edu.br/~vca/Base%20de%20dados%20-%20Sinais%20em%20Libras/01Primeira/07Olhar01.rar\n",
        " !wget http://arquivos.ouropreto.ifmg.edu.br/~vca/Base%20de%20dados%20-%20Sinais%20em%20Libras/01Primeira/08Justo01.rar\n",
        " !wget http://arquivos.ouropreto.ifmg.edu.br/~vca/Base%20de%20dados%20-%20Sinais%20em%20Libras/01Primeira/09Verdade01.rar\n",
        " !wget http://arquivos.ouropreto.ifmg.edu.br/~vca/Base%20de%20dados%20-%20Sinais%20em%20Libras/01Primeira/10Peso01.rar\n",
        " !wget http://arquivos.ouropreto.ifmg.edu.br/~vca/Base%20de%20dados%20-%20Sinais%20em%20Libras/01Primeira/11Justica01.rar\n",
        " !wget http://arquivos.ouropreto.ifmg.edu.br/~vca/Base%20de%20dados%20-%20Sinais%20em%20Libras/01Primeira/12Quem01.rar\n",
        " !wget http://arquivos.ouropreto.ifmg.edu.br/~vca/Base%20de%20dados%20-%20Sinais%20em%20Libras/01Primeira/13Nada01.rar\"\n",
        " !wget http://arquivos.ouropreto.ifmg.edu.br/~vca/Base%20de%20dados%20-%20Sinais%20em%20Libras/01Primeira/14Acreditar01.rar\n",
        " !wget http://arquivos.ouropreto.ifmg.edu.br/~vca/Base%20de%20dados%20-%20Sinais%20em%20Libras/01Primeira/15Esquecer01.rar\n",
        " !wget http://arquivos.ouropreto.ifmg.edu.br/~vca/Base%20de%20dados%20-%20Sinais%20em%20Libras/01Primeira/16Amar01.rar\n",
        " !wget http://arquivos.ouropreto.ifmg.edu.br/~vca/Base%20de%20dados%20-%20Sinais%20em%20Libras/01Primeira/17Angustiado01.rar\n",
        " !wget http://arquivos.ouropreto.ifmg.edu.br/~vca/Base%20de%20dados%20-%20Sinais%20em%20Libras/01Primeira/18Comemorar01.rar\n",
        " !wget http://arquivos.ouropreto.ifmg.edu.br/~vca/Base%20de%20dados%20-%20Sinais%20em%20Libras/01Primeira/19Rancor01.rar\n",
        " !wget http://arquivos.ouropreto.ifmg.edu.br/~vca/Base%20de%20dados%20-%20Sinais%20em%20Libras/01Primeira/20Assembleia01.rar\n",
        " !wget http://arquivos.ouropreto.ifmg.edu.br/~vca/Base%20de%20dados%20-%20Sinais%20em%20Libras/01Primeira/21Comparar01.rar\n",
        " !wget http://arquivos.ouropreto.ifmg.edu.br/~vca/Base%20de%20dados%20-%20Sinais%20em%20Libras/01Primeira/22Gritar01.rar\n",
        " !wget http://arquivos.ouropreto.ifmg.edu.br/~vca/Base%20de%20dados%20-%20Sinais%20em%20Libras/01Primeira/23Falar01.rar\n",
        " !wget http://arquivos.ouropreto.ifmg.edu.br/~vca/Base%20de%20dados%20-%20Sinais%20em%20Libras/01Primeira/24Absorver01.rar\n",
        " !wget http://arquivos.ouropreto.ifmg.edu.br/~vca/Base%20de%20dados%20-%20Sinais%20em%20Libras/01Primeira/25Engordar01.rar\n",
        " !wget http://arquivos.ouropreto.ifmg.edu.br/~vca/Base%20de%20dados%20-%20Sinais%20em%20Libras/01Primeira/26Brigar01.rar\n",
        " !wget http://arquivos.ouropreto.ifmg.edu.br/~vca/Base%20de%20dados%20-%20Sinais%20em%20Libras/01Primeira/27Esperto01.rar\n",
        " !wget http://arquivos.ouropreto.ifmg.edu.br/~vca/Base%20de%20dados%20-%20Sinais%20em%20Libras/01Primeira/28Brilhar01.rar\n",
        " !wget http://arquivos.ouropreto.ifmg.edu.br/~vca/Base%20de%20dados%20-%20Sinais%20em%20Libras/01Primeira/29Empregado01.rar\n",
        " !wget http://arquivos.ouropreto.ifmg.edu.br/~vca/Base%20de%20dados%20-%20Sinais%20em%20Libras/01Primeira/30Substituir01.rar\n",
        " !wget http://arquivos.ouropreto.ifmg.edu.br/~vca/Base%20de%20dados%20-%20Sinais%20em%20Libras/01Primeira/31Prisao01.rar\n",
        " !wget http://arquivos.ouropreto.ifmg.edu.br/~vca/Base%20de%20dados%20-%20Sinais%20em%20Libras/01Primeira/32Televisao01.rar\n",
        " !wget http://arquivos.ouropreto.ifmg.edu.br/~vca/Base%20de%20dados%20-%20Sinais%20em%20Libras/01Primeira/33Ontem01.rar\n",
        " !wget http://arquivos.ouropreto.ifmg.edu.br/~vca/Base%20de%20dados%20-%20Sinais%20em%20Libras/01Primeira/34Futuro01.rar"
      ],
      "execution_count": null,
      "outputs": [
        {
          "output_type": "stream",
          "text": [
            "--2020-10-14 14:03:34--  http://arquivos.ouropreto.ifmg.edu.br/~vca/Base%20de%20dados%20-%20Sinais%20em%20Libras/01Primeira/01Pessoa01.rar\n",
            "Resolving arquivos.ouropreto.ifmg.edu.br (arquivos.ouropreto.ifmg.edu.br)... 200.131.68.69\n",
            "Connecting to arquivos.ouropreto.ifmg.edu.br (arquivos.ouropreto.ifmg.edu.br)|200.131.68.69|:80... connected.\n",
            "HTTP request sent, awaiting response... 200 OK\n",
            "Length: 111404462 (106M) [application/rar]\n",
            "Saving to: ‘01Pessoa01.rar’\n",
            "\n",
            "01Pessoa01.rar      100%[===================>] 106.24M  8.36MB/s    in 15s     \n",
            "\n",
            "2020-10-14 14:03:51 (7.02 MB/s) - ‘01Pessoa01.rar’ saved [111404462/111404462]\n",
            "\n",
            "--2020-10-14 14:03:51--  http://arquivos.ouropreto.ifmg.edu.br/~vca/Base%20de%20dados%20-%20Sinais%20em%20Libras/01Primeira/02Espalhar01.rar\n",
            "Resolving arquivos.ouropreto.ifmg.edu.br (arquivos.ouropreto.ifmg.edu.br)... 200.131.68.69\n",
            "Connecting to arquivos.ouropreto.ifmg.edu.br (arquivos.ouropreto.ifmg.edu.br)|200.131.68.69|:80... connected.\n",
            "HTTP request sent, awaiting response... 200 OK\n",
            "Length: 117153384 (112M) [application/rar]\n",
            "Saving to: ‘02Espalhar01.rar’\n",
            "\n",
            "02Espalhar01.rar    100%[===================>] 111.73M  8.53MB/s    in 17s     \n",
            "\n",
            "2020-10-14 14:04:09 (6.66 MB/s) - ‘02Espalhar01.rar’ saved [117153384/117153384]\n",
            "\n",
            "--2020-10-14 14:04:09--  http://arquivos.ouropreto.ifmg.edu.br/~vca/Base%20de%20dados%20-%20Sinais%20em%20Libras/01Primeira/03Copiar01.rar\n",
            "Resolving arquivos.ouropreto.ifmg.edu.br (arquivos.ouropreto.ifmg.edu.br)... 200.131.68.69\n",
            "Connecting to arquivos.ouropreto.ifmg.edu.br (arquivos.ouropreto.ifmg.edu.br)|200.131.68.69|:80... connected.\n",
            "HTTP request sent, awaiting response... 200 OK\n",
            "Length: 94398282 (90M) [application/rar]\n",
            "Saving to: ‘03Copiar01.rar’\n",
            "\n",
            "03Copiar01.rar      100%[===================>]  90.02M  9.67MB/s    in 12s     \n",
            "\n",
            "2020-10-14 14:04:22 (7.50 MB/s) - ‘03Copiar01.rar’ saved [94398282/94398282]\n",
            "\n",
            "--2020-10-14 14:04:22--  http://arquivos.ouropreto.ifmg.edu.br/~vca/Base%20de%20dados%20-%20Sinais%20em%20Libras/01Primeira/04Agarrar01.rar\n",
            "Resolving arquivos.ouropreto.ifmg.edu.br (arquivos.ouropreto.ifmg.edu.br)... 200.131.68.69\n",
            "Connecting to arquivos.ouropreto.ifmg.edu.br (arquivos.ouropreto.ifmg.edu.br)|200.131.68.69|:80... connected.\n",
            "HTTP request sent, awaiting response... 200 OK\n",
            "Length: 81966718 (78M) [application/rar]\n",
            "Saving to: ‘04Agarrar01.rar’\n",
            "\n",
            "04Agarrar01.rar     100%[===================>]  78.17M  7.87MB/s    in 13s     \n",
            "\n",
            "2020-10-14 14:04:36 (6.24 MB/s) - ‘04Agarrar01.rar’ saved [81966718/81966718]\n",
            "\n",
            "--2020-10-14 14:04:36--  http://arquivos.ouropreto.ifmg.edu.br/~vca/Base%20de%20dados%20-%20Sinais%20em%20Libras/01Primeira/05Recolher01.rar\n",
            "Resolving arquivos.ouropreto.ifmg.edu.br (arquivos.ouropreto.ifmg.edu.br)... 200.131.68.69\n",
            "Connecting to arquivos.ouropreto.ifmg.edu.br (arquivos.ouropreto.ifmg.edu.br)|200.131.68.69|:80... connected.\n",
            "HTTP request sent, awaiting response... 200 OK\n",
            "Length: 150398246 (143M) [application/rar]\n",
            "Saving to: ‘05Recolher01.rar’\n",
            "\n",
            "05Recolher01.rar    100%[===================>] 143.43M  9.85MB/s    in 20s     \n",
            "\n",
            "2020-10-14 14:04:57 (7.28 MB/s) - ‘05Recolher01.rar’ saved [150398246/150398246]\n",
            "\n",
            "--2020-10-14 14:04:57--  http://arquivos.ouropreto.ifmg.edu.br/~vca/Base%20de%20dados%20-%20Sinais%20em%20Libras/01Primeira/06Sumir01.rar\n",
            "Resolving arquivos.ouropreto.ifmg.edu.br (arquivos.ouropreto.ifmg.edu.br)... 200.131.68.69\n",
            "Connecting to arquivos.ouropreto.ifmg.edu.br (arquivos.ouropreto.ifmg.edu.br)|200.131.68.69|:80... connected.\n",
            "HTTP request sent, awaiting response... 200 OK\n",
            "Length: 99460202 (95M) [application/rar]\n",
            "Saving to: ‘06Sumir01.rar’\n",
            "\n",
            "06Sumir01.rar       100%[===================>]  94.85M  8.14MB/s    in 15s     \n",
            "\n",
            "2020-10-14 14:05:13 (6.43 MB/s) - ‘06Sumir01.rar’ saved [99460202/99460202]\n",
            "\n",
            "--2020-10-14 14:05:13--  http://arquivos.ouropreto.ifmg.edu.br/~vca/Base%20de%20dados%20-%20Sinais%20em%20Libras/01Primeira/07Olhar01.rar\n",
            "Resolving arquivos.ouropreto.ifmg.edu.br (arquivos.ouropreto.ifmg.edu.br)... 200.131.68.69\n",
            "Connecting to arquivos.ouropreto.ifmg.edu.br (arquivos.ouropreto.ifmg.edu.br)|200.131.68.69|:80... connected.\n",
            "HTTP request sent, awaiting response... 200 OK\n",
            "Length: 103518395 (99M) [application/rar]\n",
            "Saving to: ‘07Olhar01.rar’\n",
            "\n",
            "07Olhar01.rar       100%[===================>]  98.72M  9.70MB/s    in 13s     \n",
            "\n",
            "2020-10-14 14:05:27 (7.76 MB/s) - ‘07Olhar01.rar’ saved [103518395/103518395]\n",
            "\n",
            "--2020-10-14 14:05:27--  http://arquivos.ouropreto.ifmg.edu.br/~vca/Base%20de%20dados%20-%20Sinais%20em%20Libras/01Primeira/08Justo01.rar\n",
            "Resolving arquivos.ouropreto.ifmg.edu.br (arquivos.ouropreto.ifmg.edu.br)... 200.131.68.69\n",
            "Connecting to arquivos.ouropreto.ifmg.edu.br (arquivos.ouropreto.ifmg.edu.br)|200.131.68.69|:80... connected.\n",
            "HTTP request sent, awaiting response... 200 OK\n",
            "Length: 94436377 (90M) [application/rar]\n",
            "Saving to: ‘08Justo01.rar’\n",
            "\n",
            "08Justo01.rar       100%[===================>]  90.06M  9.68MB/s    in 12s     \n",
            "\n",
            "2020-10-14 14:05:40 (7.65 MB/s) - ‘08Justo01.rar’ saved [94436377/94436377]\n",
            "\n",
            "--2020-10-14 14:05:40--  http://arquivos.ouropreto.ifmg.edu.br/~vca/Base%20de%20dados%20-%20Sinais%20em%20Libras/01Primeira/09Verdade01.rar\n",
            "Resolving arquivos.ouropreto.ifmg.edu.br (arquivos.ouropreto.ifmg.edu.br)... 200.131.68.69\n",
            "Connecting to arquivos.ouropreto.ifmg.edu.br (arquivos.ouropreto.ifmg.edu.br)|200.131.68.69|:80... connected.\n",
            "HTTP request sent, awaiting response... 200 OK\n",
            "Length: 127966586 (122M) [application/rar]\n",
            "Saving to: ‘09Verdade01.rar’\n",
            "\n",
            "09Verdade01.rar     100%[===================>] 122.04M  9.07MB/s    in 18s     \n",
            "\n",
            "2020-10-14 14:05:59 (6.89 MB/s) - ‘09Verdade01.rar’ saved [127966586/127966586]\n",
            "\n",
            "--2020-10-14 14:05:59--  http://arquivos.ouropreto.ifmg.edu.br/~vca/Base%20de%20dados%20-%20Sinais%20em%20Libras/01Primeira/10Peso01.rar\n",
            "Resolving arquivos.ouropreto.ifmg.edu.br (arquivos.ouropreto.ifmg.edu.br)... 200.131.68.69\n",
            "Connecting to arquivos.ouropreto.ifmg.edu.br (arquivos.ouropreto.ifmg.edu.br)|200.131.68.69|:80... connected.\n",
            "HTTP request sent, awaiting response... 200 OK\n",
            "Length: 159588921 (152M) [application/rar]\n",
            "Saving to: ‘10Peso01.rar’\n",
            "\n",
            "10Peso01.rar        100%[===================>] 152.20M  9.79MB/s    in 21s     \n",
            "\n",
            "2020-10-14 14:06:21 (7.40 MB/s) - ‘10Peso01.rar’ saved [159588921/159588921]\n",
            "\n",
            "--2020-10-14 14:06:21--  http://arquivos.ouropreto.ifmg.edu.br/~vca/Base%20de%20dados%20-%20Sinais%20em%20Libras/01Primeira/11Justica01.rar\n",
            "Resolving arquivos.ouropreto.ifmg.edu.br (arquivos.ouropreto.ifmg.edu.br)... 200.131.68.69\n",
            "Connecting to arquivos.ouropreto.ifmg.edu.br (arquivos.ouropreto.ifmg.edu.br)|200.131.68.69|:80... connected.\n",
            "HTTP request sent, awaiting response... 200 OK\n",
            "Length: 197580522 (188M) [application/rar]\n",
            "Saving to: ‘11Justica01.rar’\n",
            "\n",
            "11Justica01.rar     100%[===================>] 188.43M  9.68MB/s    in 25s     \n",
            "\n",
            "2020-10-14 14:06:47 (7.40 MB/s) - ‘11Justica01.rar’ saved [197580522/197580522]\n",
            "\n",
            "--2020-10-14 14:06:47--  http://arquivos.ouropreto.ifmg.edu.br/~vca/Base%20de%20dados%20-%20Sinais%20em%20Libras/01Primeira/12Quem01.rar\n",
            "Resolving arquivos.ouropreto.ifmg.edu.br (arquivos.ouropreto.ifmg.edu.br)... 200.131.68.69\n",
            "Connecting to arquivos.ouropreto.ifmg.edu.br (arquivos.ouropreto.ifmg.edu.br)|200.131.68.69|:80... connected.\n",
            "HTTP request sent, awaiting response... 200 OK\n",
            "Length: 108414549 (103M) [application/rar]\n",
            "Saving to: ‘12Quem01.rar’\n",
            "\n",
            "12Quem01.rar        100%[===================>] 103.39M  8.77MB/s    in 15s     \n",
            "\n",
            "2020-10-14 14:07:03 (6.86 MB/s) - ‘12Quem01.rar’ saved [108414549/108414549]\n",
            "\n",
            "/bin/bash: -c: line 0: unexpected EOF while looking for matching `\"'\n",
            "/bin/bash: -c: line 1: syntax error: unexpected end of file\n",
            "--2020-10-14 14:07:03--  http://arquivos.ouropreto.ifmg.edu.br/~vca/Base%20de%20dados%20-%20Sinais%20em%20Libras/01Primeira/14Acreditar01.rar\n",
            "Resolving arquivos.ouropreto.ifmg.edu.br (arquivos.ouropreto.ifmg.edu.br)... 200.131.68.69\n",
            "Connecting to arquivos.ouropreto.ifmg.edu.br (arquivos.ouropreto.ifmg.edu.br)|200.131.68.69|:80... connected.\n",
            "HTTP request sent, awaiting response... 200 OK\n",
            "Length: 101945063 (97M) [application/rar]\n",
            "Saving to: ‘14Acreditar01.rar’\n",
            "\n",
            "14Acreditar01.rar   100%[===================>]  97.22M  8.41MB/s    in 14s     \n",
            "\n",
            "2020-10-14 14:07:19 (6.76 MB/s) - ‘14Acreditar01.rar’ saved [101945063/101945063]\n",
            "\n",
            "--2020-10-14 14:07:19--  http://arquivos.ouropreto.ifmg.edu.br/~vca/Base%20de%20dados%20-%20Sinais%20em%20Libras/01Primeira/15Esquecer01.rar\n",
            "Resolving arquivos.ouropreto.ifmg.edu.br (arquivos.ouropreto.ifmg.edu.br)... 200.131.68.69\n",
            "Connecting to arquivos.ouropreto.ifmg.edu.br (arquivos.ouropreto.ifmg.edu.br)|200.131.68.69|:80... connected.\n",
            "HTTP request sent, awaiting response... 200 OK\n",
            "Length: 49854143 (48M) [application/rar]\n",
            "Saving to: ‘15Esquecer01.rar’\n",
            "\n",
            "15Esquecer01.rar    100%[===================>]  47.54M  7.43MB/s    in 8.3s    \n",
            "\n",
            "2020-10-14 14:07:28 (5.74 MB/s) - ‘15Esquecer01.rar’ saved [49854143/49854143]\n",
            "\n",
            "--2020-10-14 14:07:28--  http://arquivos.ouropreto.ifmg.edu.br/~vca/Base%20de%20dados%20-%20Sinais%20em%20Libras/01Primeira/16Amar01.rar\n",
            "Resolving arquivos.ouropreto.ifmg.edu.br (arquivos.ouropreto.ifmg.edu.br)... 200.131.68.69\n",
            "Connecting to arquivos.ouropreto.ifmg.edu.br (arquivos.ouropreto.ifmg.edu.br)|200.131.68.69|:80... connected.\n",
            "HTTP request sent, awaiting response... 200 OK\n",
            "Length: 120496277 (115M) [application/rar]\n",
            "Saving to: ‘16Amar01.rar’\n",
            "\n",
            "16Amar01.rar        100%[===================>] 114.91M  6.46MB/s    in 24s     \n",
            "\n",
            "2020-10-14 14:07:54 (4.80 MB/s) - ‘16Amar01.rar’ saved [120496277/120496277]\n",
            "\n",
            "--2020-10-14 14:07:54--  http://arquivos.ouropreto.ifmg.edu.br/~vca/Base%20de%20dados%20-%20Sinais%20em%20Libras/01Primeira/17Angustiado01.rar\n",
            "Resolving arquivos.ouropreto.ifmg.edu.br (arquivos.ouropreto.ifmg.edu.br)... 200.131.68.69\n",
            "Connecting to arquivos.ouropreto.ifmg.edu.br (arquivos.ouropreto.ifmg.edu.br)|200.131.68.69|:80... connected.\n",
            "HTTP request sent, awaiting response... 200 OK\n",
            "Length: 189757745 (181M) [application/rar]\n",
            "Saving to: ‘17Angustiado01.rar’\n",
            "\n",
            "17Angustiado01.rar  100%[===================>] 180.97M  9.95MB/s    in 27s     \n",
            "\n",
            "2020-10-14 14:08:22 (6.58 MB/s) - ‘17Angustiado01.rar’ saved [189757745/189757745]\n",
            "\n",
            "--2020-10-14 14:08:22--  http://arquivos.ouropreto.ifmg.edu.br/~vca/Base%20de%20dados%20-%20Sinais%20em%20Libras/01Primeira/18Comemorar01.rar\n",
            "Resolving arquivos.ouropreto.ifmg.edu.br (arquivos.ouropreto.ifmg.edu.br)... 200.131.68.69\n",
            "Connecting to arquivos.ouropreto.ifmg.edu.br (arquivos.ouropreto.ifmg.edu.br)|200.131.68.69|:80... connected.\n",
            "HTTP request sent, awaiting response... 200 OK\n",
            "Length: 129476266 (123M) [application/rar]\n",
            "Saving to: ‘18Comemorar01.rar’\n",
            "\n",
            "18Comemorar01.rar   100%[===================>] 123.48M  9.57MB/s    in 19s     \n",
            "\n",
            "2020-10-14 14:08:43 (6.35 MB/s) - ‘18Comemorar01.rar’ saved [129476266/129476266]\n",
            "\n",
            "--2020-10-14 14:08:43--  http://arquivos.ouropreto.ifmg.edu.br/~vca/Base%20de%20dados%20-%20Sinais%20em%20Libras/01Primeira/19Rancor01.rar\n",
            "Resolving arquivos.ouropreto.ifmg.edu.br (arquivos.ouropreto.ifmg.edu.br)... 200.131.68.69\n",
            "Connecting to arquivos.ouropreto.ifmg.edu.br (arquivos.ouropreto.ifmg.edu.br)|200.131.68.69|:80... connected.\n",
            "HTTP request sent, awaiting response... 200 OK\n",
            "Length: 108898991 (104M) [application/rar]\n",
            "Saving to: ‘19Rancor01.rar’\n",
            "\n",
            "19Rancor01.rar      100%[===================>] 103.85M  9.40MB/s    in 14s     \n",
            "\n",
            "2020-10-14 14:08:57 (7.36 MB/s) - ‘19Rancor01.rar’ saved [108898991/108898991]\n",
            "\n",
            "--2020-10-14 14:08:58--  http://arquivos.ouropreto.ifmg.edu.br/~vca/Base%20de%20dados%20-%20Sinais%20em%20Libras/01Primeira/20Assembleia01.rar\n",
            "Resolving arquivos.ouropreto.ifmg.edu.br (arquivos.ouropreto.ifmg.edu.br)... 200.131.68.69\n",
            "Connecting to arquivos.ouropreto.ifmg.edu.br (arquivos.ouropreto.ifmg.edu.br)|200.131.68.69|:80... connected.\n",
            "HTTP request sent, awaiting response... 200 OK\n",
            "Length: 161124413 (154M) [application/rar]\n",
            "Saving to: ‘20Assembleia01.rar’\n",
            "\n",
            "20Assembleia01.rar  100%[===================>] 153.66M  9.72MB/s    in 23s     \n",
            "\n",
            "2020-10-14 14:09:21 (6.82 MB/s) - ‘20Assembleia01.rar’ saved [161124413/161124413]\n",
            "\n",
            "--2020-10-14 14:09:21--  http://arquivos.ouropreto.ifmg.edu.br/~vca/Base%20de%20dados%20-%20Sinais%20em%20Libras/01Primeira/21Comparar01.rar\n",
            "Resolving arquivos.ouropreto.ifmg.edu.br (arquivos.ouropreto.ifmg.edu.br)... 200.131.68.69\n",
            "Connecting to arquivos.ouropreto.ifmg.edu.br (arquivos.ouropreto.ifmg.edu.br)|200.131.68.69|:80... connected.\n",
            "HTTP request sent, awaiting response... 200 OK\n",
            "Length: 137818204 (131M) [application/rar]\n",
            "Saving to: ‘21Comparar01.rar’\n",
            "\n",
            "21Comparar01.rar    100%[===================>] 131.43M  10.0MB/s    in 20s     \n",
            "\n",
            "2020-10-14 14:09:42 (6.57 MB/s) - ‘21Comparar01.rar’ saved [137818204/137818204]\n",
            "\n",
            "--2020-10-14 14:09:42--  http://arquivos.ouropreto.ifmg.edu.br/~vca/Base%20de%20dados%20-%20Sinais%20em%20Libras/01Primeira/22Gritar01.rar\n",
            "Resolving arquivos.ouropreto.ifmg.edu.br (arquivos.ouropreto.ifmg.edu.br)... 200.131.68.69\n",
            "Connecting to arquivos.ouropreto.ifmg.edu.br (arquivos.ouropreto.ifmg.edu.br)|200.131.68.69|:80... connected.\n",
            "HTTP request sent, awaiting response... 200 OK\n",
            "Length: 99569177 (95M) [application/rar]\n",
            "Saving to: ‘22Gritar01.rar’\n",
            "\n",
            "22Gritar01.rar      100%[===================>]  94.96M  7.98MB/s    in 16s     \n",
            "\n",
            "2020-10-14 14:10:00 (5.80 MB/s) - ‘22Gritar01.rar’ saved [99569177/99569177]\n",
            "\n",
            "--2020-10-14 14:10:00--  http://arquivos.ouropreto.ifmg.edu.br/~vca/Base%20de%20dados%20-%20Sinais%20em%20Libras/01Primeira/23Falar01.rar\n",
            "Resolving arquivos.ouropreto.ifmg.edu.br (arquivos.ouropreto.ifmg.edu.br)... 200.131.68.69\n",
            "Connecting to arquivos.ouropreto.ifmg.edu.br (arquivos.ouropreto.ifmg.edu.br)|200.131.68.69|:80... connected.\n",
            "HTTP request sent, awaiting response... 200 OK\n",
            "Length: 89518379 (85M) [application/rar]\n",
            "Saving to: ‘23Falar01.rar’\n",
            "\n",
            "23Falar01.rar       100%[===================>]  85.37M  6.35MB/s    in 16s     \n",
            "\n",
            "2020-10-14 14:10:18 (5.26 MB/s) - ‘23Falar01.rar’ saved [89518379/89518379]\n",
            "\n",
            "--2020-10-14 14:10:18--  http://arquivos.ouropreto.ifmg.edu.br/~vca/Base%20de%20dados%20-%20Sinais%20em%20Libras/01Primeira/24Absorver01.rar\n",
            "Resolving arquivos.ouropreto.ifmg.edu.br (arquivos.ouropreto.ifmg.edu.br)... 200.131.68.69\n",
            "Connecting to arquivos.ouropreto.ifmg.edu.br (arquivos.ouropreto.ifmg.edu.br)|200.131.68.69|:80... connected.\n",
            "HTTP request sent, awaiting response... 200 OK\n",
            "Length: 126678619 (121M) [application/rar]\n",
            "Saving to: ‘24Absorver01.rar’\n",
            "\n",
            "24Absorver01.rar    100%[===================>] 120.81M  9.98MB/s    in 16s     \n",
            "\n",
            "2020-10-14 14:10:35 (7.55 MB/s) - ‘24Absorver01.rar’ saved [126678619/126678619]\n",
            "\n",
            "--2020-10-14 14:10:35--  http://arquivos.ouropreto.ifmg.edu.br/~vca/Base%20de%20dados%20-%20Sinais%20em%20Libras/01Primeira/25Engordar01.rar\n",
            "Resolving arquivos.ouropreto.ifmg.edu.br (arquivos.ouropreto.ifmg.edu.br)... 200.131.68.69\n",
            "Connecting to arquivos.ouropreto.ifmg.edu.br (arquivos.ouropreto.ifmg.edu.br)|200.131.68.69|:80... connected.\n",
            "HTTP request sent, awaiting response... 200 OK\n",
            "Length: 82929600 (79M) [application/rar]\n",
            "Saving to: ‘25Engordar01.rar’\n",
            "\n",
            "25Engordar01.rar    100%[===================>]  79.09M  7.56MB/s    in 15s     \n",
            "\n",
            "2020-10-14 14:10:50 (5.45 MB/s) - ‘25Engordar01.rar’ saved [82929600/82929600]\n",
            "\n",
            "--2020-10-14 14:10:50--  http://arquivos.ouropreto.ifmg.edu.br/~vca/Base%20de%20dados%20-%20Sinais%20em%20Libras/01Primeira/26Brigar01.rar\n",
            "Resolving arquivos.ouropreto.ifmg.edu.br (arquivos.ouropreto.ifmg.edu.br)... 200.131.68.69\n",
            "Connecting to arquivos.ouropreto.ifmg.edu.br (arquivos.ouropreto.ifmg.edu.br)|200.131.68.69|:80... connected.\n",
            "HTTP request sent, awaiting response... 200 OK\n",
            "Length: 112048505 (107M) [application/rar]\n",
            "Saving to: ‘26Brigar01.rar’\n",
            "\n",
            "26Brigar01.rar      100%[===================>] 106.86M  6.17MB/s    in 22s     \n",
            "\n",
            "2020-10-14 14:11:13 (4.85 MB/s) - ‘26Brigar01.rar’ saved [112048505/112048505]\n",
            "\n",
            "--2020-10-14 14:11:13--  http://arquivos.ouropreto.ifmg.edu.br/~vca/Base%20de%20dados%20-%20Sinais%20em%20Libras/01Primeira/27Esperto01.rar\n",
            "Resolving arquivos.ouropreto.ifmg.edu.br (arquivos.ouropreto.ifmg.edu.br)... 200.131.68.69\n",
            "Connecting to arquivos.ouropreto.ifmg.edu.br (arquivos.ouropreto.ifmg.edu.br)|200.131.68.69|:80... connected.\n",
            "HTTP request sent, awaiting response... 200 OK\n",
            "Length: 104218533 (99M) [application/rar]\n",
            "Saving to: ‘27Esperto01.rar’\n",
            "\n",
            "27Esperto01.rar     100%[===================>]  99.39M  8.24MB/s    in 19s     \n",
            "\n",
            "2020-10-14 14:11:33 (5.18 MB/s) - ‘27Esperto01.rar’ saved [104218533/104218533]\n",
            "\n",
            "--2020-10-14 14:11:33--  http://arquivos.ouropreto.ifmg.edu.br/~vca/Base%20de%20dados%20-%20Sinais%20em%20Libras/01Primeira/28Brilhar01.rar\n",
            "Resolving arquivos.ouropreto.ifmg.edu.br (arquivos.ouropreto.ifmg.edu.br)... 200.131.68.69\n",
            "Connecting to arquivos.ouropreto.ifmg.edu.br (arquivos.ouropreto.ifmg.edu.br)|200.131.68.69|:80... connected.\n",
            "HTTP request sent, awaiting response... 200 OK\n",
            "Length: 103695714 (99M) [application/rar]\n",
            "Saving to: ‘28Brilhar01.rar’\n",
            "\n",
            "28Brilhar01.rar     100%[===================>]  98.89M  8.40MB/s    in 17s     \n",
            "\n",
            "2020-10-14 14:11:51 (5.66 MB/s) - ‘28Brilhar01.rar’ saved [103695714/103695714]\n",
            "\n",
            "--2020-10-14 14:11:51--  http://arquivos.ouropreto.ifmg.edu.br/~vca/Base%20de%20dados%20-%20Sinais%20em%20Libras/01Primeira/29Empregado01.rar\n",
            "Resolving arquivos.ouropreto.ifmg.edu.br (arquivos.ouropreto.ifmg.edu.br)... 200.131.68.69\n",
            "Connecting to arquivos.ouropreto.ifmg.edu.br (arquivos.ouropreto.ifmg.edu.br)|200.131.68.69|:80... connected.\n",
            "HTTP request sent, awaiting response... 200 OK\n",
            "Length: 168795655 (161M) [application/rar]\n",
            "Saving to: ‘29Empregado01.rar’\n",
            "\n",
            "29Empregado01.rar   100%[===================>] 160.98M  9.33MB/s    in 24s     \n",
            "\n",
            "2020-10-14 14:12:16 (6.78 MB/s) - ‘29Empregado01.rar’ saved [168795655/168795655]\n",
            "\n",
            "--2020-10-14 14:12:16--  http://arquivos.ouropreto.ifmg.edu.br/~vca/Base%20de%20dados%20-%20Sinais%20em%20Libras/01Primeira/30Substituir01.rar\n",
            "Resolving arquivos.ouropreto.ifmg.edu.br (arquivos.ouropreto.ifmg.edu.br)... 200.131.68.69\n",
            "Connecting to arquivos.ouropreto.ifmg.edu.br (arquivos.ouropreto.ifmg.edu.br)|200.131.68.69|:80... connected.\n",
            "HTTP request sent, awaiting response... 200 OK\n",
            "Length: 120640526 (115M) [application/rar]\n",
            "Saving to: ‘30Substituir01.rar’\n",
            "\n",
            "30Substituir01.rar  100%[===================>] 115.05M  8.87MB/s    in 19s     \n",
            "\n",
            "2020-10-14 14:12:35 (6.16 MB/s) - ‘30Substituir01.rar’ saved [120640526/120640526]\n",
            "\n",
            "--2020-10-14 14:12:36--  http://arquivos.ouropreto.ifmg.edu.br/~vca/Base%20de%20dados%20-%20Sinais%20em%20Libras/01Primeira/31Prisao01.rar\n",
            "Resolving arquivos.ouropreto.ifmg.edu.br (arquivos.ouropreto.ifmg.edu.br)... 200.131.68.69\n",
            "Connecting to arquivos.ouropreto.ifmg.edu.br (arquivos.ouropreto.ifmg.edu.br)|200.131.68.69|:80... connected.\n",
            "HTTP request sent, awaiting response... 200 OK\n",
            "Length: 51407130 (49M) [application/rar]\n",
            "Saving to: ‘31Prisao01.rar’\n",
            "\n",
            "31Prisao01.rar      100%[===================>]  49.03M  8.24MB/s    in 8.2s    \n",
            "\n",
            "2020-10-14 14:12:45 (5.98 MB/s) - ‘31Prisao01.rar’ saved [51407130/51407130]\n",
            "\n",
            "--2020-10-14 14:12:45--  http://arquivos.ouropreto.ifmg.edu.br/~vca/Base%20de%20dados%20-%20Sinais%20em%20Libras/01Primeira/32Televisao01.rar\n",
            "Resolving arquivos.ouropreto.ifmg.edu.br (arquivos.ouropreto.ifmg.edu.br)... 200.131.68.69\n",
            "Connecting to arquivos.ouropreto.ifmg.edu.br (arquivos.ouropreto.ifmg.edu.br)|200.131.68.69|:80... connected.\n",
            "HTTP request sent, awaiting response... 200 OK\n",
            "Length: 201419069 (192M) [application/rar]\n",
            "Saving to: ‘32Televisao01.rar’\n",
            "\n",
            "32Televisao01.rar   100%[===================>] 192.09M  9.87MB/s    in 27s     \n",
            "\n",
            "2020-10-14 14:13:13 (7.24 MB/s) - ‘32Televisao01.rar’ saved [201419069/201419069]\n",
            "\n",
            "--2020-10-14 14:13:13--  http://arquivos.ouropreto.ifmg.edu.br/~vca/Base%20de%20dados%20-%20Sinais%20em%20Libras/01Primeira/33Ontem01.rar\n",
            "Resolving arquivos.ouropreto.ifmg.edu.br (arquivos.ouropreto.ifmg.edu.br)... 200.131.68.69\n",
            "Connecting to arquivos.ouropreto.ifmg.edu.br (arquivos.ouropreto.ifmg.edu.br)|200.131.68.69|:80... connected.\n",
            "HTTP request sent, awaiting response... 200 OK\n",
            "Length: 134644336 (128M) [application/rar]\n",
            "Saving to: ‘33Ontem01.rar’\n",
            "\n",
            "33Ontem01.rar       100%[===================>] 128.41M  9.72MB/s    in 20s     \n",
            "\n",
            "2020-10-14 14:13:33 (6.43 MB/s) - ‘33Ontem01.rar’ saved [134644336/134644336]\n",
            "\n",
            "--2020-10-14 14:13:34--  http://arquivos.ouropreto.ifmg.edu.br/~vca/Base%20de%20dados%20-%20Sinais%20em%20Libras/01Primeira/34Futuro01.rar\n",
            "Resolving arquivos.ouropreto.ifmg.edu.br (arquivos.ouropreto.ifmg.edu.br)... 200.131.68.69\n",
            "Connecting to arquivos.ouropreto.ifmg.edu.br (arquivos.ouropreto.ifmg.edu.br)|200.131.68.69|:80... connected.\n",
            "HTTP request sent, awaiting response... 200 OK\n",
            "Length: 99231994 (95M) [application/rar]\n",
            "Saving to: ‘34Futuro01.rar’\n",
            "\n",
            "34Futuro01.rar      100%[===================>]  94.63M  8.43MB/s    in 17s     \n",
            "\n",
            "2020-10-14 14:13:51 (5.72 MB/s) - ‘34Futuro01.rar’ saved [99231994/99231994]\n",
            "\n"
          ],
          "name": "stdout"
        }
      ]
    },
    {
      "cell_type": "code",
      "metadata": {
        "id": "3Ep5ENtvbFoA"
      },
      "source": [
        "!unrar x /content/01Pessoa01.rar /content/Sinalizador01/"
      ],
      "execution_count": null,
      "outputs": []
    },
    {
      "cell_type": "code",
      "metadata": {
        "id": "R2zzNUc3eFSa"
      },
      "source": [
        ""
      ],
      "execution_count": null,
      "outputs": []
    }
  ]
}